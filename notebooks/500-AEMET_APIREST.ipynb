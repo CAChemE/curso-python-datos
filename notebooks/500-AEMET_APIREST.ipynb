{
 "cells": [
  {
   "cell_type": "code",
   "execution_count": 1,
   "metadata": {
    "collapsed": true
   },
   "outputs": [],
   "source": [
    "import requests"
   ]
  },
  {
   "cell_type": "code",
   "execution_count": 2,
   "metadata": {},
   "outputs": [],
   "source": [
    "url = \"https://opendata.aemet.es/opendata/api/prediccion/maritima/costera/costa/41\"\n",
    "\n",
    "api_key = open(\"../../apikey-aemet.txt\").read().rstrip()\n",
    "headers = {'cache-control': \"no-cache\"}\n",
    "\n",
    "querystring = {\"api_key\": api_key}"
   ]
  },
  {
   "cell_type": "code",
   "execution_count": 9,
   "metadata": {},
   "outputs": [
    {
     "name": "stderr",
     "output_type": "stream",
     "text": [
      "/home/asaez/miniconda3/lib/python3.5/site-packages/requests/packages/urllib3/connectionpool.py:852: InsecureRequestWarning: Unverified HTTPS request is being made. Adding certificate verification is strongly advised. See: https://urllib3.readthedocs.io/en/latest/advanced-usage.html#ssl-warnings\n",
      "  InsecureRequestWarning)\n"
     ]
    },
    {
     "data": {
      "text/plain": [
       "{'datos': 'https://opendata.aemet.es/opendata/sh/43cdfb13',\n",
       " 'descripcion': 'exito',\n",
       " 'estado': 200,\n",
       " 'metadatos': 'https://opendata.aemet.es/opendata/sh/8846af34'}"
      ]
     },
     "execution_count": 9,
     "metadata": {},
     "output_type": "execute_result"
    }
   ],
   "source": [
    "response = requests.get(url, params=querystring, verify=False)\n",
    "\n",
    "response.json()\n"
   ]
  },
  {
   "cell_type": "code",
   "execution_count": 10,
   "metadata": {},
   "outputs": [
    {
     "data": {
      "text/plain": [
       "{'datos': 'https://opendata.aemet.es/opendata/sh/43cdfb13',\n",
       " 'descripcion': 'exito',\n",
       " 'estado': 200,\n",
       " 'metadatos': 'https://opendata.aemet.es/opendata/sh/8846af34'}"
      ]
     },
     "execution_count": 10,
     "metadata": {},
     "output_type": "execute_result"
    }
   ],
   "source": [
    "response.json()"
   ]
  },
  {
   "cell_type": "code",
   "execution_count": 11,
   "metadata": {},
   "outputs": [
    {
     "name": "stderr",
     "output_type": "stream",
     "text": [
      "/home/asaez/miniconda3/lib/python3.5/site-packages/requests/packages/urllib3/connectionpool.py:852: InsecureRequestWarning: Unverified HTTPS request is being made. Adding certificate verification is strongly advised. See: https://urllib3.readthedocs.io/en/latest/advanced-usage.html#ssl-warnings\n",
      "  InsecureRequestWarning)\n"
     ]
    }
   ],
   "source": [
    "r2 = requests.get(response.json()['datos'], verify=False)"
   ]
  },
  {
   "cell_type": "code",
   "execution_count": 12,
   "metadata": {},
   "outputs": [
    {
     "data": {
      "text/plain": [
       "[{'aviso': {'fin': '2017-05-31',\n",
       "   'id': 'A801',\n",
       "   'inicio': '2017-05-30',\n",
       "   'nombre': 'Avisos para Asturias, Cantabria y País Vasco',\n",
       "   'texto': 'NO HAY AVISOS.'},\n",
       "  'id': 'FQXX41',\n",
       "  'nombre': 'Boletín meteorológico y marino para las zonas costeras de las Comunidades Autónomas de Asturias, Cantabria y País Vasco.',\n",
       "  'origen': {'copyright': '© AEMET. Autorizado el uso de la información y su reproducción citando a AEMET como autora de la misma.',\n",
       "   'elaborado': '2017-05-30',\n",
       "   'fin': '2017-05-31',\n",
       "   'inicio': '2017-05-30',\n",
       "   'language': 'es',\n",
       "   'notaLegal': 'http://www.aemet.es/es/nota_legal',\n",
       "   'productor': 'Agencia Estatal de Meteorología - AEMET - Gobierno de España',\n",
       "   'web': ' http://www.aemet.es'},\n",
       "  'prediccion': {'fin': '2017-05-31',\n",
       "   'inicio': '2017-05-30',\n",
       "   'zona': [{'id': 8033010,\n",
       "     'nombre': 'Aguas costeras de Asturias',\n",
       "     'subzona': {'id': 8033010,\n",
       "      'nombre': 'Aguas costeras de Asturias',\n",
       "      'texto': 'PRINCIPALMENTE ESTE Y NORDESTE FUERZA 3 O 4. MAREJADILLA O MAREJADA. TEMPORALMENTE REGULAR O LOCALMENTE MALA. BANCOS DE NIEBLA.'}},\n",
       "    {'id': 8063910,\n",
       "     'nombre': 'Aguas costeras de Cantabria',\n",
       "     'subzona': {'id': 8063910,\n",
       "      'nombre': 'Aguas costeras de Cantabria',\n",
       "      'texto': 'ESTE Y NORDESTE FUERZA 3 O 4. PRINCIPALMENTE MAREJADILLA, OCASIONALMENTE MAREJADA AL OESTE DE AJO.'}},\n",
       "    {'id': 8154810,\n",
       "     'nombre': 'Aguas costeras de Bizkaia',\n",
       "     'subzona': {'id': 8154810,\n",
       "      'nombre': 'Aguas costeras de Bizkaia',\n",
       "      'texto': 'VARIABLE, PRINCIPALMENTE NORTE Y NORDESTE, FUERZA 1 A 4. MAREJADILLA O RIZADA.'}},\n",
       "    {'id': 8152010,\n",
       "     'nombre': 'Aguas costeras de Gipuzkoa',\n",
       "     'subzona': {'id': 8152010,\n",
       "      'nombre': 'Aguas costeras de Gipuzkoa',\n",
       "      'texto': 'VARIABLE, PRINCIPALMENTE NORTE Y NORDESTE, FUERZA 1 A 4. MAREJADILLA O RIZADA.'}}]},\n",
       "  'situacion': {'analisis': '2017-05-30',\n",
       "   'fin': '2017-05-31',\n",
       "   'id': 'S801',\n",
       "   'inicio': '2017-05-30',\n",
       "   'nombre': 'Situación General Asturias, Cantabria y País Vasco',\n",
       "   'texto': 'BAJA SOBRE EL EXTREMO NOROESTE DE ALTAIR 999, MOVIENDOSE AL NORDESTE Y PROFUNDIZANDOSE A 985 EL 311200 UTC. ALTA SOBRE EL SUR DE AZORES 1026, MOVIENDOSE LIGERAMENTE AL ESTE Y DEBILITANDOSE A 1024.'},\n",
       "  'tendencia': {'fin': '2017-06-01',\n",
       "   'inicio': '2017-05-31',\n",
       "   'texto': 'NO SE ESPERAN CONDICIONES DE AVISO EN NINGUNA ZONA'}}]"
      ]
     },
     "execution_count": 12,
     "metadata": {},
     "output_type": "execute_result"
    }
   ],
   "source": [
    "r2.json()"
   ]
  },
  {
   "cell_type": "code",
   "execution_count": 8,
   "metadata": {},
   "outputs": [
    {
     "name": "stderr",
     "output_type": "stream",
     "text": [
      "/home/asaez/miniconda3/lib/python3.5/site-packages/requests/packages/urllib3/connectionpool.py:852: InsecureRequestWarning: Unverified HTTPS request is being made. Adding certificate verification is strongly advised. See: https://urllib3.readthedocs.io/en/latest/advanced-usage.html#ssl-warnings\n",
      "  InsecureRequestWarning)\n"
     ]
    },
    {
     "data": {
      "text/plain": [
       "[{'campos': [{'origen': [{'descripcion': 'Agencia Estatal de Meteorología - AEMET. Gobierno de España',\n",
       "      'id': 'productor',\n",
       "      'requerido': True,\n",
       "      'tipo_datos': 'string'},\n",
       "     {'descripcion': 'URL de la Web de AEMET - http://www.aemet.es',\n",
       "      'id': 'web',\n",
       "      'requerido': True,\n",
       "      'tipo_datos': 'string'},\n",
       "     {'descripcion': 'es',\n",
       "      'id': 'language',\n",
       "      'requerido': True,\n",
       "      'tipo_datos': 'string'},\n",
       "     {'descripcion': '© AEMET. Autorizado el uso de la información y su reproducción citando a AEMET como autora de la misma.',\n",
       "      'id': 'copyright',\n",
       "      'requerido': True,\n",
       "      'tipo_datos': 'string'},\n",
       "     {'descripcion': 'http://www.aemet.es/es/nota_legal/nota_legal',\n",
       "      'id': 'notaLegal',\n",
       "      'requerido': True,\n",
       "      'tipo_datos': 'anyURI'},\n",
       "     {'descripcion': 'Fecha de elaboración',\n",
       "      'id': 'elaborado',\n",
       "      'requerido': True,\n",
       "      'tipo_datos': 'dataTime'},\n",
       "     {'descripcion': 'Fecha de inicio de la validez de los avisos',\n",
       "      'id': 'inicio',\n",
       "      'requerido': True,\n",
       "      'tipo_datos': 'dataTime'},\n",
       "     {'descripcion': 'Fecha de finalización de la validez de los avisos',\n",
       "      'id': 'fin',\n",
       "      'requerido': True,\n",
       "      'tipo_datos': 'dataTime'}]},\n",
       "   {'aviso': [{'descripcion': 'Indicativo de aviso de zona costera',\n",
       "      'id': 'id',\n",
       "      'requerido': True,\n",
       "      'tipo_datos': 'string'},\n",
       "     {'descripcion': 'Avisos para zona costera',\n",
       "      'id': 'nombre',\n",
       "      'requerido': True,\n",
       "      'tipo_datos': 'string'},\n",
       "     {'descripcion': 'Inicio del aviso en zona costera',\n",
       "      'id': 'inicio',\n",
       "      'requerido': True,\n",
       "      'tipo_datos': 'dataTime'},\n",
       "     {'descripcion': 'Finalización del aviso en zona costera',\n",
       "      'id': 'fin',\n",
       "      'requerido': True,\n",
       "      'tipo_datos': 'dataTime'},\n",
       "     {'descripcion': 'Descripción textual del aviso',\n",
       "      'id': 'texto',\n",
       "      'requerido': True,\n",
       "      'tipo_datos': 'string'}]},\n",
       "   {'situacion': [{'descripcion': 'Indicativo de la situación general en zona costera',\n",
       "      'id': 'id',\n",
       "      'requerido': True,\n",
       "      'tipo_datos': 'string'},\n",
       "     {'descripcion': 'Situación general en zona costera',\n",
       "      'id': 'nombre',\n",
       "      'requerido': True,\n",
       "      'tipo_datos': 'string'},\n",
       "     {'descripcion': 'Análisis',\n",
       "      'id': 'analisis',\n",
       "      'requerido': True,\n",
       "      'tipo_datos': 'dataTime'},\n",
       "     {'descripcion': 'Inicio de la situación general en zona costera',\n",
       "      'id': 'inicio',\n",
       "      'requerido': True,\n",
       "      'tipo_datos': 'dataTime'},\n",
       "     {'descripcion': 'Finalización de la situación general en zona costera',\n",
       "      'id': 'fin',\n",
       "      'requerido': True,\n",
       "      'tipo_datos': 'dataTime'},\n",
       "     {'descripcion': 'Descripción textual de la situación general en zona costera',\n",
       "      'id': 'texto',\n",
       "      'requerido': True,\n",
       "      'tipo_datos': 'string'}]},\n",
       "   {'prediccion': [{'descripcion': 'Fecha de inicio de la validez de la predicción',\n",
       "      'id': 'inicio',\n",
       "      'requerido': True,\n",
       "      'tipo_datos': 'dataTime'},\n",
       "     {'descripcion': 'Fecha de finalización de la validez de la predicción',\n",
       "      'id': 'fin',\n",
       "      'requerido': True,\n",
       "      'tipo_datos': 'dataTime'},\n",
       "     {'zona': [{'descripcion': 'Indicativo de la zona costera',\n",
       "        'id': 'id',\n",
       "        'requerido': False,\n",
       "        'tipo_datos': 'string'},\n",
       "       {'descripcion': 'Nombre de la zona costera',\n",
       "        'id': 'nombre',\n",
       "        'requerido': False,\n",
       "        'tipo_datos': 'string'},\n",
       "       {'subzona': [{'descripcion': 'Indicativo de la subzona costera',\n",
       "          'id': 'id',\n",
       "          'requerido': False,\n",
       "          'tipo_datos': 'string'},\n",
       "         {'descripcion': 'Nombre de la subzona costera',\n",
       "          'id': 'nombre',\n",
       "          'requerido': False,\n",
       "          'tipo_datos': 'string'},\n",
       "         {'descripcion': 'Descripción textual de la predicción en la subzona costera',\n",
       "          'id': 'texto',\n",
       "          'requerido': False,\n",
       "          'tipo_datos': 'string'}]}]}]},\n",
       "   {'tendencia': [{'descripcion': 'Inicio de la tendencia en la zona costera',\n",
       "      'id': 'inicio',\n",
       "      'requerido': True,\n",
       "      'tipo_datos': 'dataTime'},\n",
       "     {'descripcion': 'Finalización de la tendencia en la zona costera',\n",
       "      'id': 'fin',\n",
       "      'requerido': True,\n",
       "      'tipo_datos': 'dataTime'},\n",
       "     {'descripcion': 'Descripción textual de la tendencia en la zona costera',\n",
       "      'id': 'texto',\n",
       "      'requerido': True,\n",
       "      'tipo_datos': 'string'}]},\n",
       "   {'descripcion': 'Indicativo de la zona costera (FQXX40/FQXX41/FQXX42/FQXX43/FQXX44/FQXX45/FQXX46/FQXX47)',\n",
       "    'id': 'id',\n",
       "    'requerido': True,\n",
       "    'tipo_datos': 'string'},\n",
       "   {'descripcion': 'Boletín meteorológico y marino para la zona costera',\n",
       "    'id': 'nombre',\n",
       "    'requerido': True,\n",
       "    'tipo_datos': 'string'}],\n",
       "  'descripcion': 'Boletín meteorológico y marino para las zonas costeras',\n",
       "  'formato': 'json/xml',\n",
       "  'periodicidad': 'Dos veces al día (12:00 y 20:00) h.o.p',\n",
       "  'unidad_generadora': 'Área de predicción operativa'}]"
      ]
     },
     "execution_count": 8,
     "metadata": {},
     "output_type": "execute_result"
    }
   ],
   "source": [
    "r3 = requests.get(response.json()['metadatos'], verify=False)\n",
    "r3.json()"
   ]
  },
  {
   "cell_type": "code",
   "execution_count": null,
   "metadata": {
    "collapsed": true
   },
   "outputs": [],
   "source": []
  }
 ],
 "metadata": {
  "kernelspec": {
   "display_name": "Python 3",
   "language": "python",
   "name": "python3"
  },
  "language_info": {
   "codemirror_mode": {
    "name": "ipython",
    "version": 3
   },
   "file_extension": ".py",
   "mimetype": "text/x-python",
   "name": "python",
   "nbconvert_exporter": "python",
   "pygments_lexer": "ipython3",
   "version": "3.5.3"
  }
 },
 "nbformat": 4,
 "nbformat_minor": 2
}
