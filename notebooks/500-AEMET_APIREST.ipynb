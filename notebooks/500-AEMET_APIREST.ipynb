{
 "cells": [
  {
   "cell_type": "markdown",
   "metadata": {},
   "source": [
    "# Cargando datos con API-REST"
   ]
  },
  {
   "cell_type": "markdown",
   "metadata": {},
   "source": [
    "## ¿Qué es API-REST?"
   ]
  },
  {
   "cell_type": "markdown",
   "metadata": {},
   "source": [
    "**API** es la **A**pplication **P**rogramming **I**nterface, es decir nuestra forma de interactuar con una aplicación. **REST** quiere decir **RE**presentational **S**tate **T**ransfer. Normalmente cuando hablamos de REST, estamos hablando de una interfaz para obtener datos usando directamente HTTP, es decir es un tipo de web API. \n",
    "\n",
    "> **De manera sencilla podemos decir que es una Interfaz con la que se interactúa mediante URLs normalmente para obtener datos.**\n",
    "\n",
    "La principal diferencia entre esto y una URL común, es que la URL de una página web devolverá algo que tu navegador puede interpretar y mostrar de forma \"bonita\", mientras que una API web mandará datos o instrucciones útiles para ti o tu ordenador."
   ]
  },
  {
   "cell_type": "code",
   "execution_count": 1,
   "metadata": {
    "collapsed": true
   },
   "outputs": [],
   "source": [
    "from IPython.display import HTML"
   ]
  },
  {
   "cell_type": "markdown",
   "metadata": {},
   "source": [
    "Veamos la respuesta a una página web clásica"
   ]
  },
  {
   "cell_type": "code",
   "execution_count": 2,
   "metadata": {},
   "outputs": [
    {
     "data": {
      "text/html": [
       "<iframe src=\"https://developer.github.com/v3/\" width=\"700\" height=\"400\"></iframe>"
      ],
      "text/plain": [
       "<IPython.core.display.HTML object>"
      ]
     },
     "execution_count": 2,
     "metadata": {},
     "output_type": "execute_result"
    }
   ],
   "source": [
    "HTML('<iframe src=\"https://developer.github.com/v3/\" width=\"700\" height=\"400\"></iframe>')"
   ]
  },
  {
   "cell_type": "markdown",
   "metadata": {},
   "source": [
    "Veamos la respuesta de una web api"
   ]
  },
  {
   "cell_type": "code",
   "execution_count": 3,
   "metadata": {},
   "outputs": [
    {
     "data": {
      "text/html": [
       "{\"current_user_url\":\"https://api.github.com/user\",\"current_user_authorizations_html_url\":\"https://github.com/settings/connections/applications{/client_id}\",\"authorizations_url\":\"https://api.github.com/authorizations\",\"code_search_url\":\"https://api.github.com/search/code?q={query}{&page,per_page,sort,order}\",\"commit_search_url\":\"https://api.github.com/search/commits?q={query}{&page,per_page,sort,order}\",\"emails_url\":\"https://api.github.com/user/emails\",\"emojis_url\":\"https://api.github.com/emojis\",\"events_url\":\"https://api.github.com/events\",\"feeds_url\":\"https://api.github.com/feeds\",\"followers_url\":\"https://api.github.com/user/followers\",\"following_url\":\"https://api.github.com/user/following{/target}\",\"gists_url\":\"https://api.github.com/gists{/gist_id}\",\"hub_url\":\"https://api.github.com/hub\",\"issue_search_url\":\"https://api.github.com/search/issues?q={query}{&page,per_page,sort,order}\",\"issues_url\":\"https://api.github.com/issues\",\"keys_url\":\"https://api.github.com/user/keys\",\"notifications_url\":\"https://api.github.com/notifications\",\"organization_repositories_url\":\"https://api.github.com/orgs/{org}/repos{?type,page,per_page,sort}\",\"organization_url\":\"https://api.github.com/orgs/{org}\",\"public_gists_url\":\"https://api.github.com/gists/public\",\"rate_limit_url\":\"https://api.github.com/rate_limit\",\"repository_url\":\"https://api.github.com/repos/{owner}/{repo}\",\"repository_search_url\":\"https://api.github.com/search/repositories?q={query}{&page,per_page,sort,order}\",\"current_user_repositories_url\":\"https://api.github.com/user/repos{?type,page,per_page,sort}\",\"starred_url\":\"https://api.github.com/user/starred{/owner}{/repo}\",\"starred_gists_url\":\"https://api.github.com/gists/starred\",\"team_url\":\"https://api.github.com/teams\",\"user_url\":\"https://api.github.com/users/{user}\",\"user_organizations_url\":\"https://api.github.com/user/orgs\",\"user_repositories_url\":\"https://api.github.com/users/{user}/repos{?type,page,per_page,sort}\",\"user_search_url\":\"https://api.github.com/search/users?q={query}{&page,per_page,sort,order}\"}"
      ],
      "text/plain": [
       "<IPython.core.display.HTML object>"
      ]
     },
     "execution_count": 3,
     "metadata": {},
     "output_type": "execute_result"
    }
   ],
   "source": [
    "HTML(url=\"https://api.github.com/\")"
   ]
  },
  {
   "cell_type": "markdown",
   "metadata": {},
   "source": [
    "En definitiva, cuando utilizamos una WEB API, están involucrados:\n",
    "\n",
    "* Cliente: realiza la petición a través de la url\n",
    "* Servidor: da una respuesta a la url recibida\n",
    "* Protocolo: se establece en la especificación de la API"
   ]
  },
  {
   "cell_type": "markdown",
   "metadata": {},
   "source": [
    "## ¿Cómo utilizar una API?"
   ]
  },
  {
   "cell_type": "markdown",
   "metadata": {},
   "source": [
    "El uso de WEB APIs permite: obtener información que sería cosotsa de obtener y procesar de otra manera (incluso en tiempo real).\n",
    "\n",
    "En algunas ocasiones, la API es pública y cualquiera puede hacer una petición, pero en otras es necesario tener una *api key* que nos identifica. Por lo tanto, el proceso para obtener datos suele ser:\n",
    "\n",
    "1. Comprobar si existe una API-REST para obtener dichos datos\n",
    "2. Obtener una api key en caso de que sea necesaria\n",
    "3. Leer la especificación de la API para saber cómo componer la URL y como interpretar la respuesta\n",
    "4. Utilizar la API, en nuestro caso desde Python."
   ]
  },
  {
   "cell_type": "markdown",
   "metadata": {},
   "source": [
    "### Ejemplo: descargando datos de AEMET "
   ]
  },
  {
   "cell_type": "markdown",
   "metadata": {},
   "source": [
    "Esta es la página principal de su API:\n",
    "\n",
    "[https://opendata.aemet.es/centrodedescargas/inicio](https://opendata.aemet.es/centrodedescargas/inicio)\n",
    "    \n",
    "Aquí podemos encontrar: información general, el lugar donde obtener nuestra API key, una interfaz para acceder a los datos para público general "
   ]
  },
  {
   "cell_type": "code",
   "execution_count": 4,
   "metadata": {},
   "outputs": [
    {
     "data": {
      "text/html": [
       "<iframe src=\"https://opendata.aemet.es/centrodedescargas/inicio\" width=\"1000\" height=\"400\"></iframe>"
      ],
      "text/plain": [
       "<IPython.core.display.HTML object>"
      ]
     },
     "execution_count": 4,
     "metadata": {},
     "output_type": "execute_result"
    }
   ],
   "source": [
    "HTML('<iframe src=\"https://opendata.aemet.es/centrodedescargas/inicio\" width=\"1000\" height=\"400\"></iframe>')"
   ]
  },
  {
   "cell_type": "markdown",
   "metadata": {},
   "source": [
    "## Módulo requests"
   ]
  },
  {
   "cell_type": "markdown",
   "metadata": {},
   "source": [
    "Aunque existen otras formas y librería para trabajar con HTTP en Python, el módulo `requests` está específicamente pensado para trabajar con APIs web.\n",
    "\n",
    "Como siempre hasta ahora, lo primero es importarlo:"
   ]
  },
  {
   "cell_type": "code",
   "execution_count": 5,
   "metadata": {
    "collapsed": true
   },
   "outputs": [],
   "source": [
    "import requests"
   ]
  },
  {
   "cell_type": "markdown",
   "metadata": {},
   "source": [
    "Necesitaremos cargar nuesta API key, lo más cómodo es almacenarla en un fichero y cargarla desde ahí. Creemos una función para leerla:"
   ]
  },
  {
   "cell_type": "code",
   "execution_count": 6,
   "metadata": {},
   "outputs": [],
   "source": [
    "def load_api_key(file):\n",
    "    \"\"\"Returns the contents in the file without the final line break\n",
    "    \"\"\"\n",
    "    with open(file, 'r') as f:\n",
    "        api_key = f.read().rstrip()\n",
    "    return api_key"
   ]
  },
  {
   "cell_type": "code",
   "execution_count": 7,
   "metadata": {},
   "outputs": [],
   "source": [
    "api_key = load_api_key(\"../../apikey-aemet.txt\")"
   ]
  },
  {
   "cell_type": "markdown",
   "metadata": {},
   "source": [
    "Debemos saber cuál es la url a la que vamos a hacer la petición:"
   ]
  },
  {
   "cell_type": "code",
   "execution_count": 8,
   "metadata": {
    "collapsed": true
   },
   "outputs": [],
   "source": [
    "# Predicción costera de Asturias, Cantabria y País Vasco debemos introducir\n",
    "url = \"https://opendata.aemet.es/opendata/api/prediccion/maritima/costera/costa/41\"\n",
    "\n",
    "querystring = {\"api_key\": api_key}"
   ]
  },
  {
   "cell_type": "markdown",
   "metadata": {},
   "source": [
    "Por último, lanzamos la petición:"
   ]
  },
  {
   "cell_type": "code",
   "execution_count": 9,
   "metadata": {},
   "outputs": [
    {
     "name": "stderr",
     "output_type": "stream",
     "text": [
      "/home/asaez/miniconda3/lib/python3.5/site-packages/requests/packages/urllib3/connectionpool.py:852: InsecureRequestWarning: Unverified HTTPS request is being made. Adding certificate verification is strongly advised. See: https://urllib3.readthedocs.io/en/latest/advanced-usage.html#ssl-warnings\n",
      "  InsecureRequestWarning)\n"
     ]
    }
   ],
   "source": [
    "response = requests.get(url, params=querystring, verify=False)"
   ]
  },
  {
   "cell_type": "markdown",
   "metadata": {},
   "source": [
    "Comprobando la respuesta:"
   ]
  },
  {
   "cell_type": "code",
   "execution_count": 10,
   "metadata": {},
   "outputs": [
    {
     "data": {
      "text/plain": [
       "<Response [200]>"
      ]
     },
     "execution_count": 10,
     "metadata": {},
     "output_type": "execute_result"
    }
   ],
   "source": [
    "response"
   ]
  },
  {
   "cell_type": "markdown",
   "metadata": {},
   "source": [
    "Vemos que hemos obtenido una respuesta con código 200, esto quiere decir, en el código habitual de las API-REST, que todo ha ido bien. De hecho, es conveniente ver que todo ha ido bien antes de hacer nada más:"
   ]
  },
  {
   "cell_type": "code",
   "execution_count": 11,
   "metadata": {},
   "outputs": [
    {
     "data": {
      "text/plain": [
       "True"
      ]
     },
     "execution_count": 11,
     "metadata": {},
     "output_type": "execute_result"
    }
   ],
   "source": [
    "response.status_code == requests.codes.ok"
   ]
  },
  {
   "cell_type": "markdown",
   "metadata": {},
   "source": [
    "Otra información que podemos obtener es, por ejemplo;"
   ]
  },
  {
   "cell_type": "code",
   "execution_count": 12,
   "metadata": {},
   "outputs": [
    {
     "name": "stdout",
     "output_type": "stream",
     "text": [
      "Elapsed:  0:00:00.087180\n",
      "Headers:  {'Server': 'Apache/2.2.15 (CentOS)', 'Date': 'Tue, 30 May 2017 23:10:29 GMT'}\n"
     ]
    }
   ],
   "source": [
    "# Tiempo en procesar la petición\n",
    "print(\"Elapsed: \", response.elapsed)\n",
    "# Información del servidor\n",
    "print(\"Headers: \", response.headers)"
   ]
  },
  {
   "cell_type": "markdown",
   "metadata": {},
   "source": [
    "Pero... ¿dónde están nuestros datos?"
   ]
  },
  {
   "cell_type": "code",
   "execution_count": 13,
   "metadata": {},
   "outputs": [
    {
     "data": {
      "text/plain": [
       "b'{\\n  \"descripcion\" : \"exito\",\\n  \"estado\" : 200,\\n  \"datos\" : \"https://opendata.aemet.es/opendata/sh/43cdfb13\",\\n  \"metadatos\" : \"https://opendata.aemet.es/opendata/sh/8846af34\"\\n}'"
      ]
     },
     "execution_count": 13,
     "metadata": {},
     "output_type": "execute_result"
    }
   ],
   "source": [
    "response.content"
   ]
  },
  {
   "cell_type": "markdown",
   "metadata": {},
   "source": [
    "¡Parece que esto es un json!"
   ]
  },
  {
   "cell_type": "code",
   "execution_count": 14,
   "metadata": {},
   "outputs": [
    {
     "data": {
      "text/plain": [
       "{'datos': 'https://opendata.aemet.es/opendata/sh/43cdfb13',\n",
       " 'descripcion': 'exito',\n",
       " 'estado': 200,\n",
       " 'metadatos': 'https://opendata.aemet.es/opendata/sh/8846af34'}"
      ]
     },
     "execution_count": 14,
     "metadata": {},
     "output_type": "execute_result"
    }
   ],
   "source": [
    "content = response.json()\n",
    "\n",
    "content"
   ]
  },
  {
   "cell_type": "markdown",
   "metadata": {},
   "source": [
    "Efectivamente, la mayoría de las WEB APIs devuelven json o xml. Pero, otra vez... ¿dónde están nuestros datos?"
   ]
  },
  {
   "cell_type": "code",
   "execution_count": 15,
   "metadata": {},
   "outputs": [
    {
     "name": "stderr",
     "output_type": "stream",
     "text": [
      "/home/asaez/miniconda3/lib/python3.5/site-packages/requests/packages/urllib3/connectionpool.py:852: InsecureRequestWarning: Unverified HTTPS request is being made. Adding certificate verification is strongly advised. See: https://urllib3.readthedocs.io/en/latest/advanced-usage.html#ssl-warnings\n",
      "  InsecureRequestWarning)\n",
      "/home/asaez/miniconda3/lib/python3.5/site-packages/requests/packages/urllib3/connectionpool.py:852: InsecureRequestWarning: Unverified HTTPS request is being made. Adding certificate verification is strongly advised. See: https://urllib3.readthedocs.io/en/latest/advanced-usage.html#ssl-warnings\n",
      "  InsecureRequestWarning)\n"
     ]
    }
   ],
   "source": [
    "r_meta = requests.get(content['metadatos'], verify=False)\n",
    "r_data = requests.get(content['datos'], verify=False)\n",
    "\n",
    "if r_meta.status_code == requests.codes.ok:\n",
    "    metadata = r_meta.json()\n",
    "    \n",
    "if r_data.status_code == requests.codes.ok:\n",
    "    data = r_data.json()"
   ]
  },
  {
   "cell_type": "markdown",
   "metadata": {},
   "source": [
    "'apparent_encoding',\n",
    " 'close',\n",
    " 'connection',\n",
    " 'content',\n",
    " 'cookies',\n",
    " 'elapsed',\n",
    " 'encoding',\n",
    " 'headers',\n",
    " 'history',\n",
    " 'is_permanent_redirect',\n",
    " 'is_redirect',\n",
    " 'iter_content',\n",
    " 'iter_lines',\n",
    " 'json',\n",
    " 'links',\n",
    " 'ok',\n",
    " 'raise_for_status',\n",
    " 'raw',\n",
    " 'reason',\n",
    " 'request',\n",
    " 'status_code',\n",
    " 'text',\n",
    " 'url'"
   ]
  },
  {
   "cell_type": "code",
   "execution_count": 16,
   "metadata": {},
   "outputs": [
    {
     "name": "stdout",
     "output_type": "stream",
     "text": [
      "dict_keys(['campos', 'descripcion', 'unidad_generadora', 'formato', 'periodicidad'])\n",
      "dict_keys(['aviso', 'situacion', 'prediccion', 'tendencia', 'nombre', 'origen', 'id'])\n"
     ]
    }
   ],
   "source": [
    "print(metadata[0].keys())\n",
    "print(data[0].keys())"
   ]
  },
  {
   "cell_type": "code",
   "execution_count": 17,
   "metadata": {},
   "outputs": [
    {
     "data": {
      "text/plain": [
       "[{'origen': [{'descripcion': 'Agencia Estatal de Meteorología - AEMET. Gobierno de España',\n",
       "    'id': 'productor',\n",
       "    'requerido': True,\n",
       "    'tipo_datos': 'string'},\n",
       "   {'descripcion': 'URL de la Web de AEMET - http://www.aemet.es',\n",
       "    'id': 'web',\n",
       "    'requerido': True,\n",
       "    'tipo_datos': 'string'},\n",
       "   {'descripcion': 'es',\n",
       "    'id': 'language',\n",
       "    'requerido': True,\n",
       "    'tipo_datos': 'string'},\n",
       "   {'descripcion': '© AEMET. Autorizado el uso de la información y su reproducción citando a AEMET como autora de la misma.',\n",
       "    'id': 'copyright',\n",
       "    'requerido': True,\n",
       "    'tipo_datos': 'string'},\n",
       "   {'descripcion': 'http://www.aemet.es/es/nota_legal/nota_legal',\n",
       "    'id': 'notaLegal',\n",
       "    'requerido': True,\n",
       "    'tipo_datos': 'anyURI'},\n",
       "   {'descripcion': 'Fecha de elaboración',\n",
       "    'id': 'elaborado',\n",
       "    'requerido': True,\n",
       "    'tipo_datos': 'dataTime'},\n",
       "   {'descripcion': 'Fecha de inicio de la validez de los avisos',\n",
       "    'id': 'inicio',\n",
       "    'requerido': True,\n",
       "    'tipo_datos': 'dataTime'},\n",
       "   {'descripcion': 'Fecha de finalización de la validez de los avisos',\n",
       "    'id': 'fin',\n",
       "    'requerido': True,\n",
       "    'tipo_datos': 'dataTime'}]},\n",
       " {'aviso': [{'descripcion': 'Indicativo de aviso de zona costera',\n",
       "    'id': 'id',\n",
       "    'requerido': True,\n",
       "    'tipo_datos': 'string'},\n",
       "   {'descripcion': 'Avisos para zona costera',\n",
       "    'id': 'nombre',\n",
       "    'requerido': True,\n",
       "    'tipo_datos': 'string'},\n",
       "   {'descripcion': 'Inicio del aviso en zona costera',\n",
       "    'id': 'inicio',\n",
       "    'requerido': True,\n",
       "    'tipo_datos': 'dataTime'},\n",
       "   {'descripcion': 'Finalización del aviso en zona costera',\n",
       "    'id': 'fin',\n",
       "    'requerido': True,\n",
       "    'tipo_datos': 'dataTime'},\n",
       "   {'descripcion': 'Descripción textual del aviso',\n",
       "    'id': 'texto',\n",
       "    'requerido': True,\n",
       "    'tipo_datos': 'string'}]},\n",
       " {'situacion': [{'descripcion': 'Indicativo de la situación general en zona costera',\n",
       "    'id': 'id',\n",
       "    'requerido': True,\n",
       "    'tipo_datos': 'string'},\n",
       "   {'descripcion': 'Situación general en zona costera',\n",
       "    'id': 'nombre',\n",
       "    'requerido': True,\n",
       "    'tipo_datos': 'string'},\n",
       "   {'descripcion': 'Análisis',\n",
       "    'id': 'analisis',\n",
       "    'requerido': True,\n",
       "    'tipo_datos': 'dataTime'},\n",
       "   {'descripcion': 'Inicio de la situación general en zona costera',\n",
       "    'id': 'inicio',\n",
       "    'requerido': True,\n",
       "    'tipo_datos': 'dataTime'},\n",
       "   {'descripcion': 'Finalización de la situación general en zona costera',\n",
       "    'id': 'fin',\n",
       "    'requerido': True,\n",
       "    'tipo_datos': 'dataTime'},\n",
       "   {'descripcion': 'Descripción textual de la situación general en zona costera',\n",
       "    'id': 'texto',\n",
       "    'requerido': True,\n",
       "    'tipo_datos': 'string'}]},\n",
       " {'prediccion': [{'descripcion': 'Fecha de inicio de la validez de la predicción',\n",
       "    'id': 'inicio',\n",
       "    'requerido': True,\n",
       "    'tipo_datos': 'dataTime'},\n",
       "   {'descripcion': 'Fecha de finalización de la validez de la predicción',\n",
       "    'id': 'fin',\n",
       "    'requerido': True,\n",
       "    'tipo_datos': 'dataTime'},\n",
       "   {'zona': [{'descripcion': 'Indicativo de la zona costera',\n",
       "      'id': 'id',\n",
       "      'requerido': False,\n",
       "      'tipo_datos': 'string'},\n",
       "     {'descripcion': 'Nombre de la zona costera',\n",
       "      'id': 'nombre',\n",
       "      'requerido': False,\n",
       "      'tipo_datos': 'string'},\n",
       "     {'subzona': [{'descripcion': 'Indicativo de la subzona costera',\n",
       "        'id': 'id',\n",
       "        'requerido': False,\n",
       "        'tipo_datos': 'string'},\n",
       "       {'descripcion': 'Nombre de la subzona costera',\n",
       "        'id': 'nombre',\n",
       "        'requerido': False,\n",
       "        'tipo_datos': 'string'},\n",
       "       {'descripcion': 'Descripción textual de la predicción en la subzona costera',\n",
       "        'id': 'texto',\n",
       "        'requerido': False,\n",
       "        'tipo_datos': 'string'}]}]}]},\n",
       " {'tendencia': [{'descripcion': 'Inicio de la tendencia en la zona costera',\n",
       "    'id': 'inicio',\n",
       "    'requerido': True,\n",
       "    'tipo_datos': 'dataTime'},\n",
       "   {'descripcion': 'Finalización de la tendencia en la zona costera',\n",
       "    'id': 'fin',\n",
       "    'requerido': True,\n",
       "    'tipo_datos': 'dataTime'},\n",
       "   {'descripcion': 'Descripción textual de la tendencia en la zona costera',\n",
       "    'id': 'texto',\n",
       "    'requerido': True,\n",
       "    'tipo_datos': 'string'}]},\n",
       " {'descripcion': 'Indicativo de la zona costera (FQXX40/FQXX41/FQXX42/FQXX43/FQXX44/FQXX45/FQXX46/FQXX47)',\n",
       "  'id': 'id',\n",
       "  'requerido': True,\n",
       "  'tipo_datos': 'string'},\n",
       " {'descripcion': 'Boletín meteorológico y marino para la zona costera',\n",
       "  'id': 'nombre',\n",
       "  'requerido': True,\n",
       "  'tipo_datos': 'string'}]"
      ]
     },
     "execution_count": 17,
     "metadata": {},
     "output_type": "execute_result"
    }
   ],
   "source": [
    "metadata[0]['campos']"
   ]
  },
  {
   "cell_type": "code",
   "execution_count": 18,
   "metadata": {
    "scrolled": true
   },
   "outputs": [
    {
     "data": {
      "text/plain": [
       "{'fin': '2017-05-31',\n",
       " 'inicio': '2017-05-30',\n",
       " 'zona': [{'id': 8033010,\n",
       "   'nombre': 'Aguas costeras de Asturias',\n",
       "   'subzona': {'id': 8033010,\n",
       "    'nombre': 'Aguas costeras de Asturias',\n",
       "    'texto': 'PRINCIPALMENTE ESTE Y NORDESTE FUERZA 3 O 4. MAREJADILLA O MAREJADA. TEMPORALMENTE REGULAR O LOCALMENTE MALA. BANCOS DE NIEBLA.'}},\n",
       "  {'id': 8063910,\n",
       "   'nombre': 'Aguas costeras de Cantabria',\n",
       "   'subzona': {'id': 8063910,\n",
       "    'nombre': 'Aguas costeras de Cantabria',\n",
       "    'texto': 'ESTE Y NORDESTE FUERZA 3 O 4. MAREJADILLA O MAREJADA.'}},\n",
       "  {'id': 8154810,\n",
       "   'nombre': 'Aguas costeras de Bizkaia',\n",
       "   'subzona': {'id': 8154810,\n",
       "    'nombre': 'Aguas costeras de Bizkaia',\n",
       "    'texto': 'VARIABLE, PRINCIPALMENTE NORTE Y NORDESTE, FUERZA 1 A 4. MAREJADILLA O RIZADA.'}},\n",
       "  {'id': 8152010,\n",
       "   'nombre': 'Aguas costeras de Gipuzkoa',\n",
       "   'subzona': {'id': 8152010,\n",
       "    'nombre': 'Aguas costeras de Gipuzkoa',\n",
       "    'texto': 'VARIABLE, PRINCIPALMENTE NORTE Y NORDESTE, FUERZA 1 A 4. MAREJADILLA O RIZADA.'}}]}"
      ]
     },
     "execution_count": 18,
     "metadata": {},
     "output_type": "execute_result"
    }
   ],
   "source": [
    "data[0]['prediccion']"
   ]
  },
  {
   "cell_type": "markdown",
   "metadata": {
    "collapsed": true
   },
   "source": [
    "En definitiva, podríamos reagrupar todo lo anterior como:"
   ]
  },
  {
   "cell_type": "code",
   "execution_count": 19,
   "metadata": {
    "collapsed": true
   },
   "outputs": [],
   "source": [
    "from warnings import warn\n",
    "\n",
    "def get_prediction_for_cantabria(api_key):\n",
    "    url = \"https://opendata.aemet.es/opendata/api/prediccion/maritima/costera/costa/41\"\n",
    "    querystring = {\"api_key\": api_key}\n",
    "    \n",
    "    response = requests.get(url, params=querystring, verify=False)\n",
    "    \n",
    "    prediction = None\n",
    "     \n",
    "    if response.status_code == requests.codes.ok:\n",
    "        r_data = requests.get(content['datos'], verify=False)\n",
    "        if r_data.status_code == requests.codes.ok:\n",
    "            data = r_data.json()\n",
    "            prediction = data[0]['prediccion']\n",
    "    \n",
    "    elif response.status_code == requests.codes.TOO_MANY_REQUESTS:\n",
    "        warn('Too many requests')\n",
    "        \n",
    "    elif response.status.code == requests.codes.NOT_FOUND:\n",
    "        warn('No data for the response')\n",
    "        \n",
    "    else:\n",
    "        warn('Code error {}'.format(response.status_code))\n",
    "            \n",
    "    return prediction\n",
    "        "
   ]
  },
  {
   "cell_type": "code",
   "execution_count": 21,
   "metadata": {},
   "outputs": [
    {
     "name": "stderr",
     "output_type": "stream",
     "text": [
      "/home/asaez/miniconda3/lib/python3.5/site-packages/requests/packages/urllib3/connectionpool.py:852: InsecureRequestWarning: Unverified HTTPS request is being made. Adding certificate verification is strongly advised. See: https://urllib3.readthedocs.io/en/latest/advanced-usage.html#ssl-warnings\n",
      "  InsecureRequestWarning)\n",
      "/home/asaez/miniconda3/lib/python3.5/site-packages/requests/packages/urllib3/connectionpool.py:852: InsecureRequestWarning: Unverified HTTPS request is being made. Adding certificate verification is strongly advised. See: https://urllib3.readthedocs.io/en/latest/advanced-usage.html#ssl-warnings\n",
      "  InsecureRequestWarning)\n"
     ]
    },
    {
     "name": "stdout",
     "output_type": "stream",
     "text": [
      "{'inicio': '2017-05-30', 'zona': [{'subzona': {'nombre': 'Aguas costeras de Asturias', 'texto': 'PRINCIPALMENTE ESTE Y NORDESTE FUERZA 3 O 4. MAREJADILLA O MAREJADA. TEMPORALMENTE REGULAR O LOCALMENTE MALA. BANCOS DE NIEBLA.', 'id': 8033010}, 'nombre': 'Aguas costeras de Asturias', 'id': 8033010}, {'subzona': {'nombre': 'Aguas costeras de Cantabria', 'texto': 'ESTE Y NORDESTE FUERZA 3 O 4. MAREJADILLA O MAREJADA.', 'id': 8063910}, 'nombre': 'Aguas costeras de Cantabria', 'id': 8063910}, {'subzona': {'nombre': 'Aguas costeras de Bizkaia', 'texto': 'VARIABLE, PRINCIPALMENTE NORTE Y NORDESTE, FUERZA 1 A 4. MAREJADILLA O RIZADA.', 'id': 8154810}, 'nombre': 'Aguas costeras de Bizkaia', 'id': 8154810}, {'subzona': {'nombre': 'Aguas costeras de Gipuzkoa', 'texto': 'VARIABLE, PRINCIPALMENTE NORTE Y NORDESTE, FUERZA 1 A 4. MAREJADILLA O RIZADA.', 'id': 8152010}, 'nombre': 'Aguas costeras de Gipuzkoa', 'id': 8152010}], 'fin': '2017-05-31'}\n"
     ]
    },
    {
     "name": "stderr",
     "output_type": "stream",
     "text": [
      "/home/asaez/miniconda3/lib/python3.5/site-packages/requests/packages/urllib3/connectionpool.py:852: InsecureRequestWarning: Unverified HTTPS request is being made. Adding certificate verification is strongly advised. See: https://urllib3.readthedocs.io/en/latest/advanced-usage.html#ssl-warnings\n",
      "  InsecureRequestWarning)\n",
      "/home/asaez/miniconda3/lib/python3.5/site-packages/requests/packages/urllib3/connectionpool.py:852: InsecureRequestWarning: Unverified HTTPS request is being made. Adding certificate verification is strongly advised. See: https://urllib3.readthedocs.io/en/latest/advanced-usage.html#ssl-warnings\n",
      "  InsecureRequestWarning)\n",
      "/home/asaez/miniconda3/lib/python3.5/site-packages/requests/packages/urllib3/connectionpool.py:852: InsecureRequestWarning: Unverified HTTPS request is being made. Adding certificate verification is strongly advised. See: https://urllib3.readthedocs.io/en/latest/advanced-usage.html#ssl-warnings\n",
      "  InsecureRequestWarning)\n",
      "/home/asaez/miniconda3/lib/python3.5/site-packages/requests/packages/urllib3/connectionpool.py:852: InsecureRequestWarning: Unverified HTTPS request is being made. Adding certificate verification is strongly advised. See: https://urllib3.readthedocs.io/en/latest/advanced-usage.html#ssl-warnings\n",
      "  InsecureRequestWarning)\n"
     ]
    },
    {
     "name": "stdout",
     "output_type": "stream",
     "text": [
      "{'inicio': '2017-05-30', 'zona': [{'subzona': {'nombre': 'Aguas costeras de Asturias', 'texto': 'PRINCIPALMENTE ESTE Y NORDESTE FUERZA 3 O 4. MAREJADILLA O MAREJADA. TEMPORALMENTE REGULAR O LOCALMENTE MALA. BANCOS DE NIEBLA.', 'id': 8033010}, 'nombre': 'Aguas costeras de Asturias', 'id': 8033010}, {'subzona': {'nombre': 'Aguas costeras de Cantabria', 'texto': 'ESTE Y NORDESTE FUERZA 3 O 4. MAREJADILLA O MAREJADA.', 'id': 8063910}, 'nombre': 'Aguas costeras de Cantabria', 'id': 8063910}, {'subzona': {'nombre': 'Aguas costeras de Bizkaia', 'texto': 'VARIABLE, PRINCIPALMENTE NORTE Y NORDESTE, FUERZA 1 A 4. MAREJADILLA O RIZADA.', 'id': 8154810}, 'nombre': 'Aguas costeras de Bizkaia', 'id': 8154810}, {'subzona': {'nombre': 'Aguas costeras de Gipuzkoa', 'texto': 'VARIABLE, PRINCIPALMENTE NORTE Y NORDESTE, FUERZA 1 A 4. MAREJADILLA O RIZADA.', 'id': 8152010}, 'nombre': 'Aguas costeras de Gipuzkoa', 'id': 8152010}], 'fin': '2017-05-31'}\n",
      "{'inicio': '2017-05-30', 'zona': [{'subzona': {'nombre': 'Aguas costeras de Asturias', 'texto': 'PRINCIPALMENTE ESTE Y NORDESTE FUERZA 3 O 4. MAREJADILLA O MAREJADA. TEMPORALMENTE REGULAR O LOCALMENTE MALA. BANCOS DE NIEBLA.', 'id': 8033010}, 'nombre': 'Aguas costeras de Asturias', 'id': 8033010}, {'subzona': {'nombre': 'Aguas costeras de Cantabria', 'texto': 'ESTE Y NORDESTE FUERZA 3 O 4. MAREJADILLA O MAREJADA.', 'id': 8063910}, 'nombre': 'Aguas costeras de Cantabria', 'id': 8063910}, {'subzona': {'nombre': 'Aguas costeras de Bizkaia', 'texto': 'VARIABLE, PRINCIPALMENTE NORTE Y NORDESTE, FUERZA 1 A 4. MAREJADILLA O RIZADA.', 'id': 8154810}, 'nombre': 'Aguas costeras de Bizkaia', 'id': 8154810}, {'subzona': {'nombre': 'Aguas costeras de Gipuzkoa', 'texto': 'VARIABLE, PRINCIPALMENTE NORTE Y NORDESTE, FUERZA 1 A 4. MAREJADILLA O RIZADA.', 'id': 8152010}, 'nombre': 'Aguas costeras de Gipuzkoa', 'id': 8152010}], 'fin': '2017-05-31'}\n"
     ]
    },
    {
     "name": "stderr",
     "output_type": "stream",
     "text": [
      "/home/asaez/miniconda3/lib/python3.5/site-packages/requests/packages/urllib3/connectionpool.py:852: InsecureRequestWarning: Unverified HTTPS request is being made. Adding certificate verification is strongly advised. See: https://urllib3.readthedocs.io/en/latest/advanced-usage.html#ssl-warnings\n",
      "  InsecureRequestWarning)\n",
      "/home/asaez/miniconda3/lib/python3.5/site-packages/requests/packages/urllib3/connectionpool.py:852: InsecureRequestWarning: Unverified HTTPS request is being made. Adding certificate verification is strongly advised. See: https://urllib3.readthedocs.io/en/latest/advanced-usage.html#ssl-warnings\n",
      "  InsecureRequestWarning)\n"
     ]
    },
    {
     "name": "stdout",
     "output_type": "stream",
     "text": [
      "{'inicio': '2017-05-30', 'zona': [{'subzona': {'nombre': 'Aguas costeras de Asturias', 'texto': 'PRINCIPALMENTE ESTE Y NORDESTE FUERZA 3 O 4. MAREJADILLA O MAREJADA. TEMPORALMENTE REGULAR O LOCALMENTE MALA. BANCOS DE NIEBLA.', 'id': 8033010}, 'nombre': 'Aguas costeras de Asturias', 'id': 8033010}, {'subzona': {'nombre': 'Aguas costeras de Cantabria', 'texto': 'ESTE Y NORDESTE FUERZA 3 O 4. MAREJADILLA O MAREJADA.', 'id': 8063910}, 'nombre': 'Aguas costeras de Cantabria', 'id': 8063910}, {'subzona': {'nombre': 'Aguas costeras de Bizkaia', 'texto': 'VARIABLE, PRINCIPALMENTE NORTE Y NORDESTE, FUERZA 1 A 4. MAREJADILLA O RIZADA.', 'id': 8154810}, 'nombre': 'Aguas costeras de Bizkaia', 'id': 8154810}, {'subzona': {'nombre': 'Aguas costeras de Gipuzkoa', 'texto': 'VARIABLE, PRINCIPALMENTE NORTE Y NORDESTE, FUERZA 1 A 4. MAREJADILLA O RIZADA.', 'id': 8152010}, 'nombre': 'Aguas costeras de Gipuzkoa', 'id': 8152010}], 'fin': '2017-05-31'}\n",
      "None\n",
      "None\n"
     ]
    },
    {
     "name": "stderr",
     "output_type": "stream",
     "text": [
      "/home/asaez/miniconda3/lib/python3.5/site-packages/requests/packages/urllib3/connectionpool.py:852: InsecureRequestWarning: Unverified HTTPS request is being made. Adding certificate verification is strongly advised. See: https://urllib3.readthedocs.io/en/latest/advanced-usage.html#ssl-warnings\n",
      "  InsecureRequestWarning)\n",
      "/home/asaez/miniconda3/lib/python3.5/site-packages/ipykernel_launcher.py:18: UserWarning: Too many requests\n",
      "/home/asaez/miniconda3/lib/python3.5/site-packages/requests/packages/urllib3/connectionpool.py:852: InsecureRequestWarning: Unverified HTTPS request is being made. Adding certificate verification is strongly advised. See: https://urllib3.readthedocs.io/en/latest/advanced-usage.html#ssl-warnings\n",
      "  InsecureRequestWarning)\n",
      "/home/asaez/miniconda3/lib/python3.5/site-packages/requests/packages/urllib3/connectionpool.py:852: InsecureRequestWarning: Unverified HTTPS request is being made. Adding certificate verification is strongly advised. See: https://urllib3.readthedocs.io/en/latest/advanced-usage.html#ssl-warnings\n",
      "  InsecureRequestWarning)\n",
      "/home/asaez/miniconda3/lib/python3.5/site-packages/requests/packages/urllib3/connectionpool.py:852: InsecureRequestWarning: Unverified HTTPS request is being made. Adding certificate verification is strongly advised. See: https://urllib3.readthedocs.io/en/latest/advanced-usage.html#ssl-warnings\n",
      "  InsecureRequestWarning)\n",
      "/home/asaez/miniconda3/lib/python3.5/site-packages/requests/packages/urllib3/connectionpool.py:852: InsecureRequestWarning: Unverified HTTPS request is being made. Adding certificate verification is strongly advised. See: https://urllib3.readthedocs.io/en/latest/advanced-usage.html#ssl-warnings\n",
      "  InsecureRequestWarning)\n"
     ]
    },
    {
     "name": "stdout",
     "output_type": "stream",
     "text": [
      "{'inicio': '2017-05-30', 'zona': [{'subzona': {'nombre': 'Aguas costeras de Asturias', 'texto': 'PRINCIPALMENTE ESTE Y NORDESTE FUERZA 3 O 4. MAREJADILLA O MAREJADA. TEMPORALMENTE REGULAR O LOCALMENTE MALA. BANCOS DE NIEBLA.', 'id': 8033010}, 'nombre': 'Aguas costeras de Asturias', 'id': 8033010}, {'subzona': {'nombre': 'Aguas costeras de Cantabria', 'texto': 'ESTE Y NORDESTE FUERZA 3 O 4. MAREJADILLA O MAREJADA.', 'id': 8063910}, 'nombre': 'Aguas costeras de Cantabria', 'id': 8063910}, {'subzona': {'nombre': 'Aguas costeras de Bizkaia', 'texto': 'VARIABLE, PRINCIPALMENTE NORTE Y NORDESTE, FUERZA 1 A 4. MAREJADILLA O RIZADA.', 'id': 8154810}, 'nombre': 'Aguas costeras de Bizkaia', 'id': 8154810}, {'subzona': {'nombre': 'Aguas costeras de Gipuzkoa', 'texto': 'VARIABLE, PRINCIPALMENTE NORTE Y NORDESTE, FUERZA 1 A 4. MAREJADILLA O RIZADA.', 'id': 8152010}, 'nombre': 'Aguas costeras de Gipuzkoa', 'id': 8152010}], 'fin': '2017-05-31'}\n",
      "{'inicio': '2017-05-30', 'zona': [{'subzona': {'nombre': 'Aguas costeras de Asturias', 'texto': 'PRINCIPALMENTE ESTE Y NORDESTE FUERZA 3 O 4. MAREJADILLA O MAREJADA. TEMPORALMENTE REGULAR O LOCALMENTE MALA. BANCOS DE NIEBLA.', 'id': 8033010}, 'nombre': 'Aguas costeras de Asturias', 'id': 8033010}, {'subzona': {'nombre': 'Aguas costeras de Cantabria', 'texto': 'ESTE Y NORDESTE FUERZA 3 O 4. MAREJADILLA O MAREJADA.', 'id': 8063910}, 'nombre': 'Aguas costeras de Cantabria', 'id': 8063910}, {'subzona': {'nombre': 'Aguas costeras de Bizkaia', 'texto': 'VARIABLE, PRINCIPALMENTE NORTE Y NORDESTE, FUERZA 1 A 4. MAREJADILLA O RIZADA.', 'id': 8154810}, 'nombre': 'Aguas costeras de Bizkaia', 'id': 8154810}, {'subzona': {'nombre': 'Aguas costeras de Gipuzkoa', 'texto': 'VARIABLE, PRINCIPALMENTE NORTE Y NORDESTE, FUERZA 1 A 4. MAREJADILLA O RIZADA.', 'id': 8152010}, 'nombre': 'Aguas costeras de Gipuzkoa', 'id': 8152010}], 'fin': '2017-05-31'}\n"
     ]
    },
    {
     "name": "stderr",
     "output_type": "stream",
     "text": [
      "/home/asaez/miniconda3/lib/python3.5/site-packages/requests/packages/urllib3/connectionpool.py:852: InsecureRequestWarning: Unverified HTTPS request is being made. Adding certificate verification is strongly advised. See: https://urllib3.readthedocs.io/en/latest/advanced-usage.html#ssl-warnings\n",
      "  InsecureRequestWarning)\n",
      "/home/asaez/miniconda3/lib/python3.5/site-packages/requests/packages/urllib3/connectionpool.py:852: InsecureRequestWarning: Unverified HTTPS request is being made. Adding certificate verification is strongly advised. See: https://urllib3.readthedocs.io/en/latest/advanced-usage.html#ssl-warnings\n",
      "  InsecureRequestWarning)\n",
      "/home/asaez/miniconda3/lib/python3.5/site-packages/requests/packages/urllib3/connectionpool.py:852: InsecureRequestWarning: Unverified HTTPS request is being made. Adding certificate verification is strongly advised. See: https://urllib3.readthedocs.io/en/latest/advanced-usage.html#ssl-warnings\n",
      "  InsecureRequestWarning)\n"
     ]
    },
    {
     "name": "stdout",
     "output_type": "stream",
     "text": [
      "{'inicio': '2017-05-30', 'zona': [{'subzona': {'nombre': 'Aguas costeras de Asturias', 'texto': 'PRINCIPALMENTE ESTE Y NORDESTE FUERZA 3 O 4. MAREJADILLA O MAREJADA. TEMPORALMENTE REGULAR O LOCALMENTE MALA. BANCOS DE NIEBLA.', 'id': 8033010}, 'nombre': 'Aguas costeras de Asturias', 'id': 8033010}, {'subzona': {'nombre': 'Aguas costeras de Cantabria', 'texto': 'ESTE Y NORDESTE FUERZA 3 O 4. MAREJADILLA O MAREJADA.', 'id': 8063910}, 'nombre': 'Aguas costeras de Cantabria', 'id': 8063910}, {'subzona': {'nombre': 'Aguas costeras de Bizkaia', 'texto': 'VARIABLE, PRINCIPALMENTE NORTE Y NORDESTE, FUERZA 1 A 4. MAREJADILLA O RIZADA.', 'id': 8154810}, 'nombre': 'Aguas costeras de Bizkaia', 'id': 8154810}, {'subzona': {'nombre': 'Aguas costeras de Gipuzkoa', 'texto': 'VARIABLE, PRINCIPALMENTE NORTE Y NORDESTE, FUERZA 1 A 4. MAREJADILLA O RIZADA.', 'id': 8152010}, 'nombre': 'Aguas costeras de Gipuzkoa', 'id': 8152010}], 'fin': '2017-05-31'}\n"
     ]
    },
    {
     "name": "stderr",
     "output_type": "stream",
     "text": [
      "/home/asaez/miniconda3/lib/python3.5/site-packages/requests/packages/urllib3/connectionpool.py:852: InsecureRequestWarning: Unverified HTTPS request is being made. Adding certificate verification is strongly advised. See: https://urllib3.readthedocs.io/en/latest/advanced-usage.html#ssl-warnings\n",
      "  InsecureRequestWarning)\n",
      "/home/asaez/miniconda3/lib/python3.5/site-packages/requests/packages/urllib3/connectionpool.py:852: InsecureRequestWarning: Unverified HTTPS request is being made. Adding certificate verification is strongly advised. See: https://urllib3.readthedocs.io/en/latest/advanced-usage.html#ssl-warnings\n",
      "  InsecureRequestWarning)\n"
     ]
    },
    {
     "name": "stdout",
     "output_type": "stream",
     "text": [
      "{'inicio': '2017-05-30', 'zona': [{'subzona': {'nombre': 'Aguas costeras de Asturias', 'texto': 'PRINCIPALMENTE ESTE Y NORDESTE FUERZA 3 O 4. MAREJADILLA O MAREJADA. TEMPORALMENTE REGULAR O LOCALMENTE MALA. BANCOS DE NIEBLA.', 'id': 8033010}, 'nombre': 'Aguas costeras de Asturias', 'id': 8033010}, {'subzona': {'nombre': 'Aguas costeras de Cantabria', 'texto': 'ESTE Y NORDESTE FUERZA 3 O 4. MAREJADILLA O MAREJADA.', 'id': 8063910}, 'nombre': 'Aguas costeras de Cantabria', 'id': 8063910}, {'subzona': {'nombre': 'Aguas costeras de Bizkaia', 'texto': 'VARIABLE, PRINCIPALMENTE NORTE Y NORDESTE, FUERZA 1 A 4. MAREJADILLA O RIZADA.', 'id': 8154810}, 'nombre': 'Aguas costeras de Bizkaia', 'id': 8154810}, {'subzona': {'nombre': 'Aguas costeras de Gipuzkoa', 'texto': 'VARIABLE, PRINCIPALMENTE NORTE Y NORDESTE, FUERZA 1 A 4. MAREJADILLA O RIZADA.', 'id': 8152010}, 'nombre': 'Aguas costeras de Gipuzkoa', 'id': 8152010}], 'fin': '2017-05-31'}\n"
     ]
    },
    {
     "name": "stderr",
     "output_type": "stream",
     "text": [
      "/home/asaez/miniconda3/lib/python3.5/site-packages/requests/packages/urllib3/connectionpool.py:852: InsecureRequestWarning: Unverified HTTPS request is being made. Adding certificate verification is strongly advised. See: https://urllib3.readthedocs.io/en/latest/advanced-usage.html#ssl-warnings\n",
      "  InsecureRequestWarning)\n",
      "/home/asaez/miniconda3/lib/python3.5/site-packages/requests/packages/urllib3/connectionpool.py:852: InsecureRequestWarning: Unverified HTTPS request is being made. Adding certificate verification is strongly advised. See: https://urllib3.readthedocs.io/en/latest/advanced-usage.html#ssl-warnings\n",
      "  InsecureRequestWarning)\n",
      "/home/asaez/miniconda3/lib/python3.5/site-packages/requests/packages/urllib3/connectionpool.py:852: InsecureRequestWarning: Unverified HTTPS request is being made. Adding certificate verification is strongly advised. See: https://urllib3.readthedocs.io/en/latest/advanced-usage.html#ssl-warnings\n",
      "  InsecureRequestWarning)\n"
     ]
    },
    {
     "name": "stdout",
     "output_type": "stream",
     "text": [
      "{'inicio': '2017-05-30', 'zona': [{'subzona': {'nombre': 'Aguas costeras de Asturias', 'texto': 'PRINCIPALMENTE ESTE Y NORDESTE FUERZA 3 O 4. MAREJADILLA O MAREJADA. TEMPORALMENTE REGULAR O LOCALMENTE MALA. BANCOS DE NIEBLA.', 'id': 8033010}, 'nombre': 'Aguas costeras de Asturias', 'id': 8033010}, {'subzona': {'nombre': 'Aguas costeras de Cantabria', 'texto': 'ESTE Y NORDESTE FUERZA 3 O 4. MAREJADILLA O MAREJADA.', 'id': 8063910}, 'nombre': 'Aguas costeras de Cantabria', 'id': 8063910}, {'subzona': {'nombre': 'Aguas costeras de Bizkaia', 'texto': 'VARIABLE, PRINCIPALMENTE NORTE Y NORDESTE, FUERZA 1 A 4. MAREJADILLA O RIZADA.', 'id': 8154810}, 'nombre': 'Aguas costeras de Bizkaia', 'id': 8154810}, {'subzona': {'nombre': 'Aguas costeras de Gipuzkoa', 'texto': 'VARIABLE, PRINCIPALMENTE NORTE Y NORDESTE, FUERZA 1 A 4. MAREJADILLA O RIZADA.', 'id': 8152010}, 'nombre': 'Aguas costeras de Gipuzkoa', 'id': 8152010}], 'fin': '2017-05-31'}\n",
      "{'inicio': '2017-05-30', 'zona': [{'subzona': {'nombre': 'Aguas costeras de Asturias', 'texto': 'PRINCIPALMENTE ESTE Y NORDESTE FUERZA 3 O 4. MAREJADILLA O MAREJADA. TEMPORALMENTE REGULAR O LOCALMENTE MALA. BANCOS DE NIEBLA.', 'id': 8033010}, 'nombre': 'Aguas costeras de Asturias', 'id': 8033010}, {'subzona': {'nombre': 'Aguas costeras de Cantabria', 'texto': 'ESTE Y NORDESTE FUERZA 3 O 4. MAREJADILLA O MAREJADA.', 'id': 8063910}, 'nombre': 'Aguas costeras de Cantabria', 'id': 8063910}, {'subzona': {'nombre': 'Aguas costeras de Bizkaia', 'texto': 'VARIABLE, PRINCIPALMENTE NORTE Y NORDESTE, FUERZA 1 A 4. MAREJADILLA O RIZADA.', 'id': 8154810}, 'nombre': 'Aguas costeras de Bizkaia', 'id': 8154810}, {'subzona': {'nombre': 'Aguas costeras de Gipuzkoa', 'texto': 'VARIABLE, PRINCIPALMENTE NORTE Y NORDESTE, FUERZA 1 A 4. MAREJADILLA O RIZADA.', 'id': 8152010}, 'nombre': 'Aguas costeras de Gipuzkoa', 'id': 8152010}], 'fin': '2017-05-31'}"
     ]
    },
    {
     "name": "stderr",
     "output_type": "stream",
     "text": [
      "/home/asaez/miniconda3/lib/python3.5/site-packages/requests/packages/urllib3/connectionpool.py:852: InsecureRequestWarning: Unverified HTTPS request is being made. Adding certificate verification is strongly advised. See: https://urllib3.readthedocs.io/en/latest/advanced-usage.html#ssl-warnings\n",
      "  InsecureRequestWarning)\n",
      "/home/asaez/miniconda3/lib/python3.5/site-packages/requests/packages/urllib3/connectionpool.py:852: InsecureRequestWarning: Unverified HTTPS request is being made. Adding certificate verification is strongly advised. See: https://urllib3.readthedocs.io/en/latest/advanced-usage.html#ssl-warnings\n",
      "  InsecureRequestWarning)\n",
      "/home/asaez/miniconda3/lib/python3.5/site-packages/requests/packages/urllib3/connectionpool.py:852: InsecureRequestWarning: Unverified HTTPS request is being made. Adding certificate verification is strongly advised. See: https://urllib3.readthedocs.io/en/latest/advanced-usage.html#ssl-warnings\n",
      "  InsecureRequestWarning)\n",
      "/home/asaez/miniconda3/lib/python3.5/site-packages/requests/packages/urllib3/connectionpool.py:852: InsecureRequestWarning: Unverified HTTPS request is being made. Adding certificate verification is strongly advised. See: https://urllib3.readthedocs.io/en/latest/advanced-usage.html#ssl-warnings\n",
      "  InsecureRequestWarning)\n"
     ]
    },
    {
     "name": "stdout",
     "output_type": "stream",
     "text": [
      "\n",
      "{'inicio': '2017-05-30', 'zona': [{'subzona': {'nombre': 'Aguas costeras de Asturias', 'texto': 'PRINCIPALMENTE ESTE Y NORDESTE FUERZA 3 O 4. MAREJADILLA O MAREJADA. TEMPORALMENTE REGULAR O LOCALMENTE MALA. BANCOS DE NIEBLA.', 'id': 8033010}, 'nombre': 'Aguas costeras de Asturias', 'id': 8033010}, {'subzona': {'nombre': 'Aguas costeras de Cantabria', 'texto': 'ESTE Y NORDESTE FUERZA 3 O 4. MAREJADILLA O MAREJADA.', 'id': 8063910}, 'nombre': 'Aguas costeras de Cantabria', 'id': 8063910}, {'subzona': {'nombre': 'Aguas costeras de Bizkaia', 'texto': 'VARIABLE, PRINCIPALMENTE NORTE Y NORDESTE, FUERZA 1 A 4. MAREJADILLA O RIZADA.', 'id': 8154810}, 'nombre': 'Aguas costeras de Bizkaia', 'id': 8154810}, {'subzona': {'nombre': 'Aguas costeras de Gipuzkoa', 'texto': 'VARIABLE, PRINCIPALMENTE NORTE Y NORDESTE, FUERZA 1 A 4. MAREJADILLA O RIZADA.', 'id': 8152010}, 'nombre': 'Aguas costeras de Gipuzkoa', 'id': 8152010}], 'fin': '2017-05-31'}\n"
     ]
    },
    {
     "name": "stderr",
     "output_type": "stream",
     "text": [
      "/home/asaez/miniconda3/lib/python3.5/site-packages/requests/packages/urllib3/connectionpool.py:852: InsecureRequestWarning: Unverified HTTPS request is being made. Adding certificate verification is strongly advised. See: https://urllib3.readthedocs.io/en/latest/advanced-usage.html#ssl-warnings\n",
      "  InsecureRequestWarning)\n",
      "/home/asaez/miniconda3/lib/python3.5/site-packages/requests/packages/urllib3/connectionpool.py:852: InsecureRequestWarning: Unverified HTTPS request is being made. Adding certificate verification is strongly advised. See: https://urllib3.readthedocs.io/en/latest/advanced-usage.html#ssl-warnings\n",
      "  InsecureRequestWarning)\n"
     ]
    },
    {
     "name": "stdout",
     "output_type": "stream",
     "text": [
      "{'inicio': '2017-05-30', 'zona': [{'subzona': {'nombre': 'Aguas costeras de Asturias', 'texto': 'PRINCIPALMENTE ESTE Y NORDESTE FUERZA 3 O 4. MAREJADILLA O MAREJADA. TEMPORALMENTE REGULAR O LOCALMENTE MALA. BANCOS DE NIEBLA.', 'id': 8033010}, 'nombre': 'Aguas costeras de Asturias', 'id': 8033010}, {'subzona': {'nombre': 'Aguas costeras de Cantabria', 'texto': 'ESTE Y NORDESTE FUERZA 3 O 4. MAREJADILLA O MAREJADA.', 'id': 8063910}, 'nombre': 'Aguas costeras de Cantabria', 'id': 8063910}, {'subzona': {'nombre': 'Aguas costeras de Bizkaia', 'texto': 'VARIABLE, PRINCIPALMENTE NORTE Y NORDESTE, FUERZA 1 A 4. MAREJADILLA O RIZADA.', 'id': 8154810}, 'nombre': 'Aguas costeras de Bizkaia', 'id': 8154810}, {'subzona': {'nombre': 'Aguas costeras de Gipuzkoa', 'texto': 'VARIABLE, PRINCIPALMENTE NORTE Y NORDESTE, FUERZA 1 A 4. MAREJADILLA O RIZADA.', 'id': 8152010}, 'nombre': 'Aguas costeras de Gipuzkoa', 'id': 8152010}], 'fin': '2017-05-31'}\n"
     ]
    },
    {
     "name": "stderr",
     "output_type": "stream",
     "text": [
      "/home/asaez/miniconda3/lib/python3.5/site-packages/requests/packages/urllib3/connectionpool.py:852: InsecureRequestWarning: Unverified HTTPS request is being made. Adding certificate verification is strongly advised. See: https://urllib3.readthedocs.io/en/latest/advanced-usage.html#ssl-warnings\n",
      "  InsecureRequestWarning)\n",
      "/home/asaez/miniconda3/lib/python3.5/site-packages/requests/packages/urllib3/connectionpool.py:852: InsecureRequestWarning: Unverified HTTPS request is being made. Adding certificate verification is strongly advised. See: https://urllib3.readthedocs.io/en/latest/advanced-usage.html#ssl-warnings\n",
      "  InsecureRequestWarning)\n"
     ]
    },
    {
     "name": "stdout",
     "output_type": "stream",
     "text": [
      "{'inicio': '2017-05-30', 'zona': [{'subzona': {'nombre': 'Aguas costeras de Asturias', 'texto': 'PRINCIPALMENTE ESTE Y NORDESTE FUERZA 3 O 4. MAREJADILLA O MAREJADA. TEMPORALMENTE REGULAR O LOCALMENTE MALA. BANCOS DE NIEBLA.', 'id': 8033010}, 'nombre': 'Aguas costeras de Asturias', 'id': 8033010}, {'subzona': {'nombre': 'Aguas costeras de Cantabria', 'texto': 'ESTE Y NORDESTE FUERZA 3 O 4. MAREJADILLA O MAREJADA.', 'id': 8063910}, 'nombre': 'Aguas costeras de Cantabria', 'id': 8063910}, {'subzona': {'nombre': 'Aguas costeras de Bizkaia', 'texto': 'VARIABLE, PRINCIPALMENTE NORTE Y NORDESTE, FUERZA 1 A 4. MAREJADILLA O RIZADA.', 'id': 8154810}, 'nombre': 'Aguas costeras de Bizkaia', 'id': 8154810}, {'subzona': {'nombre': 'Aguas costeras de Gipuzkoa', 'texto': 'VARIABLE, PRINCIPALMENTE NORTE Y NORDESTE, FUERZA 1 A 4. MAREJADILLA O RIZADA.', 'id': 8152010}, 'nombre': 'Aguas costeras de Gipuzkoa', 'id': 8152010}], 'fin': '2017-05-31'}\n",
      "{'inicio': '2017-05-30', 'zona': [{'subzona': {'nombre': 'Aguas costeras de Asturias', 'texto': 'PRINCIPALMENTE ESTE Y NORDESTE FUERZA 3 O 4. MAREJADILLA O MAREJADA. TEMPORALMENTE REGULAR O LOCALMENTE MALA. BANCOS DE NIEBLA.', 'id': 8033010}, 'nombre': 'Aguas costeras de Asturias', 'id': 8033010}, {'subzona': {'nombre': 'Aguas costeras de Cantabria', 'texto': 'ESTE Y NORDESTE FUERZA 3 O 4. MAREJADILLA O MAREJADA.', 'id': 8063910}, 'nombre': 'Aguas costeras de Cantabria', 'id': 8063910}, {'subzona': {'nombre': 'Aguas costeras de Bizkaia', 'texto': 'VARIABLE, PRINCIPALMENTE NORTE Y NORDESTE, FUERZA 1 A 4. MAREJADILLA O RIZADA.', 'id': 8154810}, 'nombre': 'Aguas costeras de Bizkaia', 'id': 8154810}, {'subzona': {'nombre': 'Aguas costeras de Gipuzkoa', 'texto': 'VARIABLE, PRINCIPALMENTE NORTE Y NORDESTE, FUERZA 1 A 4. MAREJADILLA O RIZADA.', 'id': 8152010}, 'nombre': 'Aguas costeras de Gipuzkoa', 'id': 8152010}], 'fin': '2017-05-31'}"
     ]
    },
    {
     "name": "stderr",
     "output_type": "stream",
     "text": [
      "/home/asaez/miniconda3/lib/python3.5/site-packages/requests/packages/urllib3/connectionpool.py:852: InsecureRequestWarning: Unverified HTTPS request is being made. Adding certificate verification is strongly advised. See: https://urllib3.readthedocs.io/en/latest/advanced-usage.html#ssl-warnings\n",
      "  InsecureRequestWarning)\n",
      "/home/asaez/miniconda3/lib/python3.5/site-packages/requests/packages/urllib3/connectionpool.py:852: InsecureRequestWarning: Unverified HTTPS request is being made. Adding certificate verification is strongly advised. See: https://urllib3.readthedocs.io/en/latest/advanced-usage.html#ssl-warnings\n",
      "  InsecureRequestWarning)\n",
      "/home/asaez/miniconda3/lib/python3.5/site-packages/requests/packages/urllib3/connectionpool.py:852: InsecureRequestWarning: Unverified HTTPS request is being made. Adding certificate verification is strongly advised. See: https://urllib3.readthedocs.io/en/latest/advanced-usage.html#ssl-warnings\n",
      "  InsecureRequestWarning)\n",
      "/home/asaez/miniconda3/lib/python3.5/site-packages/requests/packages/urllib3/connectionpool.py:852: InsecureRequestWarning: Unverified HTTPS request is being made. Adding certificate verification is strongly advised. See: https://urllib3.readthedocs.io/en/latest/advanced-usage.html#ssl-warnings\n",
      "  InsecureRequestWarning)\n",
      "/home/asaez/miniconda3/lib/python3.5/site-packages/requests/packages/urllib3/connectionpool.py:852: InsecureRequestWarning: Unverified HTTPS request is being made. Adding certificate verification is strongly advised. See: https://urllib3.readthedocs.io/en/latest/advanced-usage.html#ssl-warnings\n",
      "  InsecureRequestWarning)\n"
     ]
    },
    {
     "name": "stdout",
     "output_type": "stream",
     "text": [
      "\n",
      "{'inicio': '2017-05-30', 'zona': [{'subzona': {'nombre': 'Aguas costeras de Asturias', 'texto': 'PRINCIPALMENTE ESTE Y NORDESTE FUERZA 3 O 4. MAREJADILLA O MAREJADA. TEMPORALMENTE REGULAR O LOCALMENTE MALA. BANCOS DE NIEBLA.', 'id': 8033010}, 'nombre': 'Aguas costeras de Asturias', 'id': 8033010}, {'subzona': {'nombre': 'Aguas costeras de Cantabria', 'texto': 'ESTE Y NORDESTE FUERZA 3 O 4. MAREJADILLA O MAREJADA.', 'id': 8063910}, 'nombre': 'Aguas costeras de Cantabria', 'id': 8063910}, {'subzona': {'nombre': 'Aguas costeras de Bizkaia', 'texto': 'VARIABLE, PRINCIPALMENTE NORTE Y NORDESTE, FUERZA 1 A 4. MAREJADILLA O RIZADA.', 'id': 8154810}, 'nombre': 'Aguas costeras de Bizkaia', 'id': 8154810}, {'subzona': {'nombre': 'Aguas costeras de Gipuzkoa', 'texto': 'VARIABLE, PRINCIPALMENTE NORTE Y NORDESTE, FUERZA 1 A 4. MAREJADILLA O RIZADA.', 'id': 8152010}, 'nombre': 'Aguas costeras de Gipuzkoa', 'id': 8152010}], 'fin': '2017-05-31'}\n",
      "{'inicio': '2017-05-30', 'zona': [{'subzona': {'nombre': 'Aguas costeras de Asturias', 'texto': 'PRINCIPALMENTE ESTE Y NORDESTE FUERZA 3 O 4. MAREJADILLA O MAREJADA. TEMPORALMENTE REGULAR O LOCALMENTE MALA. BANCOS DE NIEBLA.', 'id': 8033010}, 'nombre': 'Aguas costeras de Asturias', 'id': 8033010}, {'subzona': {'nombre': 'Aguas costeras de Cantabria', 'texto': 'ESTE Y NORDESTE FUERZA 3 O 4. MAREJADILLA O MAREJADA.', 'id': 8063910}, 'nombre': 'Aguas costeras de Cantabria', 'id': 8063910}, {'subzona': {'nombre': 'Aguas costeras de Bizkaia', 'texto': 'VARIABLE, PRINCIPALMENTE NORTE Y NORDESTE, FUERZA 1 A 4. MAREJADILLA O RIZADA.', 'id': 8154810}, 'nombre': 'Aguas costeras de Bizkaia', 'id': 8154810}, {'subzona': {'nombre': 'Aguas costeras de Gipuzkoa', 'texto': 'VARIABLE, PRINCIPALMENTE NORTE Y NORDESTE, FUERZA 1 A 4. MAREJADILLA O RIZADA.', 'id': 8152010}, 'nombre': 'Aguas costeras de Gipuzkoa', 'id': 8152010}], 'fin': '2017-05-31'}"
     ]
    },
    {
     "name": "stderr",
     "output_type": "stream",
     "text": [
      "/home/asaez/miniconda3/lib/python3.5/site-packages/requests/packages/urllib3/connectionpool.py:852: InsecureRequestWarning: Unverified HTTPS request is being made. Adding certificate verification is strongly advised. See: https://urllib3.readthedocs.io/en/latest/advanced-usage.html#ssl-warnings\n",
      "  InsecureRequestWarning)\n",
      "/home/asaez/miniconda3/lib/python3.5/site-packages/requests/packages/urllib3/connectionpool.py:852: InsecureRequestWarning: Unverified HTTPS request is being made. Adding certificate verification is strongly advised. See: https://urllib3.readthedocs.io/en/latest/advanced-usage.html#ssl-warnings\n",
      "  InsecureRequestWarning)\n"
     ]
    },
    {
     "name": "stdout",
     "output_type": "stream",
     "text": [
      "\n",
      "{'inicio': '2017-05-30', 'zona': [{'subzona': {'nombre': 'Aguas costeras de Asturias', 'texto': 'PRINCIPALMENTE ESTE Y NORDESTE FUERZA 3 O 4. MAREJADILLA O MAREJADA. TEMPORALMENTE REGULAR O LOCALMENTE MALA. BANCOS DE NIEBLA.', 'id': 8033010}, 'nombre': 'Aguas costeras de Asturias', 'id': 8033010}, {'subzona': {'nombre': 'Aguas costeras de Cantabria', 'texto': 'ESTE Y NORDESTE FUERZA 3 O 4. MAREJADILLA O MAREJADA.', 'id': 8063910}, 'nombre': 'Aguas costeras de Cantabria', 'id': 8063910}, {'subzona': {'nombre': 'Aguas costeras de Bizkaia', 'texto': 'VARIABLE, PRINCIPALMENTE NORTE Y NORDESTE, FUERZA 1 A 4. MAREJADILLA O RIZADA.', 'id': 8154810}, 'nombre': 'Aguas costeras de Bizkaia', 'id': 8154810}, {'subzona': {'nombre': 'Aguas costeras de Gipuzkoa', 'texto': 'VARIABLE, PRINCIPALMENTE NORTE Y NORDESTE, FUERZA 1 A 4. MAREJADILLA O RIZADA.', 'id': 8152010}, 'nombre': 'Aguas costeras de Gipuzkoa', 'id': 8152010}], 'fin': '2017-05-31'}\n",
      "{'inicio': '2017-05-30', 'zona': [{'subzona': {'nombre': 'Aguas costeras de Asturias', 'texto': 'PRINCIPALMENTE ESTE Y NORDESTE FUERZA 3 O 4. MAREJADILLA O MAREJADA. TEMPORALMENTE REGULAR O LOCALMENTE MALA. BANCOS DE NIEBLA.', 'id': 8033010}, 'nombre': 'Aguas costeras de Asturias', 'id': 8033010}, {'subzona': {'nombre': 'Aguas costeras de Cantabria', 'texto': 'ESTE Y NORDESTE FUERZA 3 O 4. MAREJADILLA O MAREJADA.', 'id': 8063910}, 'nombre': 'Aguas costeras de Cantabria', 'id': 8063910}, {'subzona': {'nombre': 'Aguas costeras de Bizkaia', 'texto': 'VARIABLE, PRINCIPALMENTE NORTE Y NORDESTE, FUERZA 1 A 4. MAREJADILLA O RIZADA.', 'id': 8154810}, 'nombre': 'Aguas costeras de Bizkaia', 'id': 8154810}, {'subzona': {'nombre': 'Aguas costeras de Gipuzkoa', 'texto': 'VARIABLE, PRINCIPALMENTE NORTE Y NORDESTE, FUERZA 1 A 4. MAREJADILLA O RIZADA.', 'id': 8152010}, 'nombre': 'Aguas costeras de Gipuzkoa', 'id': 8152010}], 'fin': '2017-05-31'}\n"
     ]
    },
    {
     "name": "stderr",
     "output_type": "stream",
     "text": [
      "/home/asaez/miniconda3/lib/python3.5/site-packages/requests/packages/urllib3/connectionpool.py:852: InsecureRequestWarning: Unverified HTTPS request is being made. Adding certificate verification is strongly advised. See: https://urllib3.readthedocs.io/en/latest/advanced-usage.html#ssl-warnings\n",
      "  InsecureRequestWarning)\n",
      "/home/asaez/miniconda3/lib/python3.5/site-packages/requests/packages/urllib3/connectionpool.py:852: InsecureRequestWarning: Unverified HTTPS request is being made. Adding certificate verification is strongly advised. See: https://urllib3.readthedocs.io/en/latest/advanced-usage.html#ssl-warnings\n",
      "  InsecureRequestWarning)\n",
      "/home/asaez/miniconda3/lib/python3.5/site-packages/requests/packages/urllib3/connectionpool.py:852: InsecureRequestWarning: Unverified HTTPS request is being made. Adding certificate verification is strongly advised. See: https://urllib3.readthedocs.io/en/latest/advanced-usage.html#ssl-warnings\n",
      "  InsecureRequestWarning)\n",
      "/home/asaez/miniconda3/lib/python3.5/site-packages/requests/packages/urllib3/connectionpool.py:852: InsecureRequestWarning: Unverified HTTPS request is being made. Adding certificate verification is strongly advised. See: https://urllib3.readthedocs.io/en/latest/advanced-usage.html#ssl-warnings\n",
      "  InsecureRequestWarning)\n"
     ]
    },
    {
     "name": "stdout",
     "output_type": "stream",
     "text": [
      "{'inicio': '2017-05-30', 'zona': [{'subzona': {'nombre': 'Aguas costeras de Asturias', 'texto': 'PRINCIPALMENTE ESTE Y NORDESTE FUERZA 3 O 4. MAREJADILLA O MAREJADA. TEMPORALMENTE REGULAR O LOCALMENTE MALA. BANCOS DE NIEBLA.', 'id': 8033010}, 'nombre': 'Aguas costeras de Asturias', 'id': 8033010}, {'subzona': {'nombre': 'Aguas costeras de Cantabria', 'texto': 'ESTE Y NORDESTE FUERZA 3 O 4. MAREJADILLA O MAREJADA.', 'id': 8063910}, 'nombre': 'Aguas costeras de Cantabria', 'id': 8063910}, {'subzona': {'nombre': 'Aguas costeras de Bizkaia', 'texto': 'VARIABLE, PRINCIPALMENTE NORTE Y NORDESTE, FUERZA 1 A 4. MAREJADILLA O RIZADA.', 'id': 8154810}, 'nombre': 'Aguas costeras de Bizkaia', 'id': 8154810}, {'subzona': {'nombre': 'Aguas costeras de Gipuzkoa', 'texto': 'VARIABLE, PRINCIPALMENTE NORTE Y NORDESTE, FUERZA 1 A 4. MAREJADILLA O RIZADA.', 'id': 8152010}, 'nombre': 'Aguas costeras de Gipuzkoa', 'id': 8152010}], 'fin': '2017-05-31'}\n",
      "{'inicio': '2017-05-30', 'zona': [{'subzona': {'nombre': 'Aguas costeras de Asturias', 'texto': 'PRINCIPALMENTE ESTE Y NORDESTE FUERZA 3 O 4. MAREJADILLA O MAREJADA. TEMPORALMENTE REGULAR O LOCALMENTE MALA. BANCOS DE NIEBLA.', 'id': 8033010}, 'nombre': 'Aguas costeras de Asturias', 'id': 8033010}, {'subzona': {'nombre': 'Aguas costeras de Cantabria', 'texto': 'ESTE Y NORDESTE FUERZA 3 O 4. MAREJADILLA O MAREJADA.', 'id': 8063910}, 'nombre': 'Aguas costeras de Cantabria', 'id': 8063910}, {'subzona': {'nombre': 'Aguas costeras de Bizkaia', 'texto': 'VARIABLE, PRINCIPALMENTE NORTE Y NORDESTE, FUERZA 1 A 4. MAREJADILLA O RIZADA.', 'id': 8154810}, 'nombre': 'Aguas costeras de Bizkaia', 'id': 8154810}, {'subzona': {'nombre': 'Aguas costeras de Gipuzkoa', 'texto': 'VARIABLE, PRINCIPALMENTE NORTE Y NORDESTE, FUERZA 1 A 4. MAREJADILLA O RIZADA.', 'id': 8152010}, 'nombre': 'Aguas costeras de Gipuzkoa', 'id': 8152010}], 'fin': '2017-05-31'}"
     ]
    },
    {
     "name": "stderr",
     "output_type": "stream",
     "text": [
      "/home/asaez/miniconda3/lib/python3.5/site-packages/requests/packages/urllib3/connectionpool.py:852: InsecureRequestWarning: Unverified HTTPS request is being made. Adding certificate verification is strongly advised. See: https://urllib3.readthedocs.io/en/latest/advanced-usage.html#ssl-warnings\n",
      "  InsecureRequestWarning)\n",
      "/home/asaez/miniconda3/lib/python3.5/site-packages/requests/packages/urllib3/connectionpool.py:852: InsecureRequestWarning: Unverified HTTPS request is being made. Adding certificate verification is strongly advised. See: https://urllib3.readthedocs.io/en/latest/advanced-usage.html#ssl-warnings\n",
      "  InsecureRequestWarning)\n",
      "/home/asaez/miniconda3/lib/python3.5/site-packages/requests/packages/urllib3/connectionpool.py:852: InsecureRequestWarning: Unverified HTTPS request is being made. Adding certificate verification is strongly advised. See: https://urllib3.readthedocs.io/en/latest/advanced-usage.html#ssl-warnings\n",
      "  InsecureRequestWarning)\n",
      "/home/asaez/miniconda3/lib/python3.5/site-packages/requests/packages/urllib3/connectionpool.py:852: InsecureRequestWarning: Unverified HTTPS request is being made. Adding certificate verification is strongly advised. See: https://urllib3.readthedocs.io/en/latest/advanced-usage.html#ssl-warnings\n",
      "  InsecureRequestWarning)\n",
      "/home/asaez/miniconda3/lib/python3.5/site-packages/requests/packages/urllib3/connectionpool.py:852: InsecureRequestWarning: Unverified HTTPS request is being made. Adding certificate verification is strongly advised. See: https://urllib3.readthedocs.io/en/latest/advanced-usage.html#ssl-warnings\n",
      "  InsecureRequestWarning)\n",
      "/home/asaez/miniconda3/lib/python3.5/site-packages/requests/packages/urllib3/connectionpool.py:852: InsecureRequestWarning: Unverified HTTPS request is being made. Adding certificate verification is strongly advised. See: https://urllib3.readthedocs.io/en/latest/advanced-usage.html#ssl-warnings\n",
      "  InsecureRequestWarning)\n"
     ]
    },
    {
     "name": "stdout",
     "output_type": "stream",
     "text": [
      "\n",
      "{'inicio': '2017-05-30', 'zona': [{'subzona': {'nombre': 'Aguas costeras de Asturias', 'texto': 'PRINCIPALMENTE ESTE Y NORDESTE FUERZA 3 O 4. MAREJADILLA O MAREJADA. TEMPORALMENTE REGULAR O LOCALMENTE MALA. BANCOS DE NIEBLA.', 'id': 8033010}, 'nombre': 'Aguas costeras de Asturias', 'id': 8033010}, {'subzona': {'nombre': 'Aguas costeras de Cantabria', 'texto': 'ESTE Y NORDESTE FUERZA 3 O 4. MAREJADILLA O MAREJADA.', 'id': 8063910}, 'nombre': 'Aguas costeras de Cantabria', 'id': 8063910}, {'subzona': {'nombre': 'Aguas costeras de Bizkaia', 'texto': 'VARIABLE, PRINCIPALMENTE NORTE Y NORDESTE, FUERZA 1 A 4. MAREJADILLA O RIZADA.', 'id': 8154810}, 'nombre': 'Aguas costeras de Bizkaia', 'id': 8154810}, {'subzona': {'nombre': 'Aguas costeras de Gipuzkoa', 'texto': 'VARIABLE, PRINCIPALMENTE NORTE Y NORDESTE, FUERZA 1 A 4. MAREJADILLA O RIZADA.', 'id': 8152010}, 'nombre': 'Aguas costeras de Gipuzkoa', 'id': 8152010}], 'fin': '2017-05-31'}\n",
      "{'inicio': '2017-05-30', 'zona': [{'subzona': {'nombre': 'Aguas costeras de Asturias', 'texto': 'PRINCIPALMENTE ESTE Y NORDESTE FUERZA 3 O 4. MAREJADILLA O MAREJADA. TEMPORALMENTE REGULAR O LOCALMENTE MALA. BANCOS DE NIEBLA.', 'id': 8033010}, 'nombre': 'Aguas costeras de Asturias', 'id': 8033010}, {'subzona': {'nombre': 'Aguas costeras de Cantabria', 'texto': 'ESTE Y NORDESTE FUERZA 3 O 4. MAREJADILLA O MAREJADA.', 'id': 8063910}, 'nombre': 'Aguas costeras de Cantabria', 'id': 8063910}, {'subzona': {'nombre': 'Aguas costeras de Bizkaia', 'texto': 'VARIABLE, PRINCIPALMENTE NORTE Y NORDESTE, FUERZA 1 A 4. MAREJADILLA O RIZADA.', 'id': 8154810}, 'nombre': 'Aguas costeras de Bizkaia', 'id': 8154810}, {'subzona': {'nombre': 'Aguas costeras de Gipuzkoa', 'texto': 'VARIABLE, PRINCIPALMENTE NORTE Y NORDESTE, FUERZA 1 A 4. MAREJADILLA O RIZADA.', 'id': 8152010}, 'nombre': 'Aguas costeras de Gipuzkoa', 'id': 8152010}], 'fin': '2017-05-31'}"
     ]
    },
    {
     "name": "stderr",
     "output_type": "stream",
     "text": [
      "/home/asaez/miniconda3/lib/python3.5/site-packages/requests/packages/urllib3/connectionpool.py:852: InsecureRequestWarning: Unverified HTTPS request is being made. Adding certificate verification is strongly advised. See: https://urllib3.readthedocs.io/en/latest/advanced-usage.html#ssl-warnings\n",
      "  InsecureRequestWarning)\n",
      "/home/asaez/miniconda3/lib/python3.5/site-packages/requests/packages/urllib3/connectionpool.py:852: InsecureRequestWarning: Unverified HTTPS request is being made. Adding certificate verification is strongly advised. See: https://urllib3.readthedocs.io/en/latest/advanced-usage.html#ssl-warnings\n",
      "  InsecureRequestWarning)\n",
      "/home/asaez/miniconda3/lib/python3.5/site-packages/requests/packages/urllib3/connectionpool.py:852: InsecureRequestWarning: Unverified HTTPS request is being made. Adding certificate verification is strongly advised. See: https://urllib3.readthedocs.io/en/latest/advanced-usage.html#ssl-warnings\n",
      "  InsecureRequestWarning)\n"
     ]
    },
    {
     "name": "stdout",
     "output_type": "stream",
     "text": [
      "\n",
      "{'inicio': '2017-05-30', 'zona': [{'subzona': {'nombre': 'Aguas costeras de Asturias', 'texto': 'PRINCIPALMENTE ESTE Y NORDESTE FUERZA 3 O 4. MAREJADILLA O MAREJADA. TEMPORALMENTE REGULAR O LOCALMENTE MALA. BANCOS DE NIEBLA.', 'id': 8033010}, 'nombre': 'Aguas costeras de Asturias', 'id': 8033010}, {'subzona': {'nombre': 'Aguas costeras de Cantabria', 'texto': 'ESTE Y NORDESTE FUERZA 3 O 4. MAREJADILLA O MAREJADA.', 'id': 8063910}, 'nombre': 'Aguas costeras de Cantabria', 'id': 8063910}, {'subzona': {'nombre': 'Aguas costeras de Bizkaia', 'texto': 'VARIABLE, PRINCIPALMENTE NORTE Y NORDESTE, FUERZA 1 A 4. MAREJADILLA O RIZADA.', 'id': 8154810}, 'nombre': 'Aguas costeras de Bizkaia', 'id': 8154810}, {'subzona': {'nombre': 'Aguas costeras de Gipuzkoa', 'texto': 'VARIABLE, PRINCIPALMENTE NORTE Y NORDESTE, FUERZA 1 A 4. MAREJADILLA O RIZADA.', 'id': 8152010}, 'nombre': 'Aguas costeras de Gipuzkoa', 'id': 8152010}], 'fin': '2017-05-31'}\n",
      "{'inicio': '2017-05-30', 'zona': [{'subzona': {'nombre': 'Aguas costeras de Asturias', 'texto': 'PRINCIPALMENTE ESTE Y NORDESTE FUERZA 3 O 4. MAREJADILLA O MAREJADA. TEMPORALMENTE REGULAR O LOCALMENTE MALA. BANCOS DE NIEBLA.', 'id': 8033010}, 'nombre': 'Aguas costeras de Asturias', 'id': 8033010}, {'subzona': {'nombre': 'Aguas costeras de Cantabria', 'texto': 'ESTE Y NORDESTE FUERZA 3 O 4. MAREJADILLA O MAREJADA.', 'id': 8063910}, 'nombre': 'Aguas costeras de Cantabria', 'id': 8063910}, {'subzona': {'nombre': 'Aguas costeras de Bizkaia', 'texto': 'VARIABLE, PRINCIPALMENTE NORTE Y NORDESTE, FUERZA 1 A 4. MAREJADILLA O RIZADA.', 'id': 8154810}, 'nombre': 'Aguas costeras de Bizkaia', 'id': 8154810}, {'subzona': {'nombre': 'Aguas costeras de Gipuzkoa', 'texto': 'VARIABLE, PRINCIPALMENTE NORTE Y NORDESTE, FUERZA 1 A 4. MAREJADILLA O RIZADA.', 'id': 8152010}, 'nombre': 'Aguas costeras de Gipuzkoa', 'id': 8152010}], 'fin': '2017-05-31'}\n"
     ]
    },
    {
     "name": "stderr",
     "output_type": "stream",
     "text": [
      "/home/asaez/miniconda3/lib/python3.5/site-packages/requests/packages/urllib3/connectionpool.py:852: InsecureRequestWarning: Unverified HTTPS request is being made. Adding certificate verification is strongly advised. See: https://urllib3.readthedocs.io/en/latest/advanced-usage.html#ssl-warnings\n",
      "  InsecureRequestWarning)\n",
      "/home/asaez/miniconda3/lib/python3.5/site-packages/requests/packages/urllib3/connectionpool.py:852: InsecureRequestWarning: Unverified HTTPS request is being made. Adding certificate verification is strongly advised. See: https://urllib3.readthedocs.io/en/latest/advanced-usage.html#ssl-warnings\n",
      "  InsecureRequestWarning)\n",
      "/home/asaez/miniconda3/lib/python3.5/site-packages/requests/packages/urllib3/connectionpool.py:852: InsecureRequestWarning: Unverified HTTPS request is being made. Adding certificate verification is strongly advised. See: https://urllib3.readthedocs.io/en/latest/advanced-usage.html#ssl-warnings\n",
      "  InsecureRequestWarning)\n"
     ]
    },
    {
     "name": "stdout",
     "output_type": "stream",
     "text": [
      "{'inicio': '2017-05-30', 'zona': [{'subzona': {'nombre': 'Aguas costeras de Asturias', 'texto': 'PRINCIPALMENTE ESTE Y NORDESTE FUERZA 3 O 4. MAREJADILLA O MAREJADA. TEMPORALMENTE REGULAR O LOCALMENTE MALA. BANCOS DE NIEBLA.', 'id': 8033010}, 'nombre': 'Aguas costeras de Asturias', 'id': 8033010}, {'subzona': {'nombre': 'Aguas costeras de Cantabria', 'texto': 'ESTE Y NORDESTE FUERZA 3 O 4. MAREJADILLA O MAREJADA.', 'id': 8063910}, 'nombre': 'Aguas costeras de Cantabria', 'id': 8063910}, {'subzona': {'nombre': 'Aguas costeras de Bizkaia', 'texto': 'VARIABLE, PRINCIPALMENTE NORTE Y NORDESTE, FUERZA 1 A 4. MAREJADILLA O RIZADA.', 'id': 8154810}, 'nombre': 'Aguas costeras de Bizkaia', 'id': 8154810}, {'subzona': {'nombre': 'Aguas costeras de Gipuzkoa', 'texto': 'VARIABLE, PRINCIPALMENTE NORTE Y NORDESTE, FUERZA 1 A 4. MAREJADILLA O RIZADA.', 'id': 8152010}, 'nombre': 'Aguas costeras de Gipuzkoa', 'id': 8152010}], 'fin': '2017-05-31'}\n"
     ]
    },
    {
     "name": "stderr",
     "output_type": "stream",
     "text": [
      "/home/asaez/miniconda3/lib/python3.5/site-packages/requests/packages/urllib3/connectionpool.py:852: InsecureRequestWarning: Unverified HTTPS request is being made. Adding certificate verification is strongly advised. See: https://urllib3.readthedocs.io/en/latest/advanced-usage.html#ssl-warnings\n",
      "  InsecureRequestWarning)\n",
      "/home/asaez/miniconda3/lib/python3.5/site-packages/requests/packages/urllib3/connectionpool.py:852: InsecureRequestWarning: Unverified HTTPS request is being made. Adding certificate verification is strongly advised. See: https://urllib3.readthedocs.io/en/latest/advanced-usage.html#ssl-warnings\n",
      "  InsecureRequestWarning)\n"
     ]
    },
    {
     "name": "stdout",
     "output_type": "stream",
     "text": [
      "{'inicio': '2017-05-30', 'zona': [{'subzona': {'nombre': 'Aguas costeras de Asturias', 'texto': 'PRINCIPALMENTE ESTE Y NORDESTE FUERZA 3 O 4. MAREJADILLA O MAREJADA. TEMPORALMENTE REGULAR O LOCALMENTE MALA. BANCOS DE NIEBLA.', 'id': 8033010}, 'nombre': 'Aguas costeras de Asturias', 'id': 8033010}, {'subzona': {'nombre': 'Aguas costeras de Cantabria', 'texto': 'ESTE Y NORDESTE FUERZA 3 O 4. MAREJADILLA O MAREJADA.', 'id': 8063910}, 'nombre': 'Aguas costeras de Cantabria', 'id': 8063910}, {'subzona': {'nombre': 'Aguas costeras de Bizkaia', 'texto': 'VARIABLE, PRINCIPALMENTE NORTE Y NORDESTE, FUERZA 1 A 4. MAREJADILLA O RIZADA.', 'id': 8154810}, 'nombre': 'Aguas costeras de Bizkaia', 'id': 8154810}, {'subzona': {'nombre': 'Aguas costeras de Gipuzkoa', 'texto': 'VARIABLE, PRINCIPALMENTE NORTE Y NORDESTE, FUERZA 1 A 4. MAREJADILLA O RIZADA.', 'id': 8152010}, 'nombre': 'Aguas costeras de Gipuzkoa', 'id': 8152010}], 'fin': '2017-05-31'}\n"
     ]
    },
    {
     "name": "stderr",
     "output_type": "stream",
     "text": [
      "/home/asaez/miniconda3/lib/python3.5/site-packages/requests/packages/urllib3/connectionpool.py:852: InsecureRequestWarning: Unverified HTTPS request is being made. Adding certificate verification is strongly advised. See: https://urllib3.readthedocs.io/en/latest/advanced-usage.html#ssl-warnings\n",
      "  InsecureRequestWarning)\n",
      "/home/asaez/miniconda3/lib/python3.5/site-packages/requests/packages/urllib3/connectionpool.py:852: InsecureRequestWarning: Unverified HTTPS request is being made. Adding certificate verification is strongly advised. See: https://urllib3.readthedocs.io/en/latest/advanced-usage.html#ssl-warnings\n",
      "  InsecureRequestWarning)\n"
     ]
    },
    {
     "name": "stdout",
     "output_type": "stream",
     "text": [
      "{'inicio': '2017-05-30', 'zona': [{'subzona': {'nombre': 'Aguas costeras de Asturias', 'texto': 'PRINCIPALMENTE ESTE Y NORDESTE FUERZA 3 O 4. MAREJADILLA O MAREJADA. TEMPORALMENTE REGULAR O LOCALMENTE MALA. BANCOS DE NIEBLA.', 'id': 8033010}, 'nombre': 'Aguas costeras de Asturias', 'id': 8033010}, {'subzona': {'nombre': 'Aguas costeras de Cantabria', 'texto': 'ESTE Y NORDESTE FUERZA 3 O 4. MAREJADILLA O MAREJADA.', 'id': 8063910}, 'nombre': 'Aguas costeras de Cantabria', 'id': 8063910}, {'subzona': {'nombre': 'Aguas costeras de Bizkaia', 'texto': 'VARIABLE, PRINCIPALMENTE NORTE Y NORDESTE, FUERZA 1 A 4. MAREJADILLA O RIZADA.', 'id': 8154810}, 'nombre': 'Aguas costeras de Bizkaia', 'id': 8154810}, {'subzona': {'nombre': 'Aguas costeras de Gipuzkoa', 'texto': 'VARIABLE, PRINCIPALMENTE NORTE Y NORDESTE, FUERZA 1 A 4. MAREJADILLA O RIZADA.', 'id': 8152010}, 'nombre': 'Aguas costeras de Gipuzkoa', 'id': 8152010}], 'fin': '2017-05-31'}\n"
     ]
    },
    {
     "name": "stderr",
     "output_type": "stream",
     "text": [
      "/home/asaez/miniconda3/lib/python3.5/site-packages/requests/packages/urllib3/connectionpool.py:852: InsecureRequestWarning: Unverified HTTPS request is being made. Adding certificate verification is strongly advised. See: https://urllib3.readthedocs.io/en/latest/advanced-usage.html#ssl-warnings\n",
      "  InsecureRequestWarning)\n",
      "/home/asaez/miniconda3/lib/python3.5/site-packages/requests/packages/urllib3/connectionpool.py:852: InsecureRequestWarning: Unverified HTTPS request is being made. Adding certificate verification is strongly advised. See: https://urllib3.readthedocs.io/en/latest/advanced-usage.html#ssl-warnings\n",
      "  InsecureRequestWarning)\n"
     ]
    },
    {
     "name": "stdout",
     "output_type": "stream",
     "text": [
      "{'inicio': '2017-05-30', 'zona': [{'subzona': {'nombre': 'Aguas costeras de Asturias', 'texto': 'PRINCIPALMENTE ESTE Y NORDESTE FUERZA 3 O 4. MAREJADILLA O MAREJADA. TEMPORALMENTE REGULAR O LOCALMENTE MALA. BANCOS DE NIEBLA.', 'id': 8033010}, 'nombre': 'Aguas costeras de Asturias', 'id': 8033010}, {'subzona': {'nombre': 'Aguas costeras de Cantabria', 'texto': 'ESTE Y NORDESTE FUERZA 3 O 4. MAREJADILLA O MAREJADA.', 'id': 8063910}, 'nombre': 'Aguas costeras de Cantabria', 'id': 8063910}, {'subzona': {'nombre': 'Aguas costeras de Bizkaia', 'texto': 'VARIABLE, PRINCIPALMENTE NORTE Y NORDESTE, FUERZA 1 A 4. MAREJADILLA O RIZADA.', 'id': 8154810}, 'nombre': 'Aguas costeras de Bizkaia', 'id': 8154810}, {'subzona': {'nombre': 'Aguas costeras de Gipuzkoa', 'texto': 'VARIABLE, PRINCIPALMENTE NORTE Y NORDESTE, FUERZA 1 A 4. MAREJADILLA O RIZADA.', 'id': 8152010}, 'nombre': 'Aguas costeras de Gipuzkoa', 'id': 8152010}], 'fin': '2017-05-31'}\n"
     ]
    },
    {
     "name": "stderr",
     "output_type": "stream",
     "text": [
      "/home/asaez/miniconda3/lib/python3.5/site-packages/requests/packages/urllib3/connectionpool.py:852: InsecureRequestWarning: Unverified HTTPS request is being made. Adding certificate verification is strongly advised. See: https://urllib3.readthedocs.io/en/latest/advanced-usage.html#ssl-warnings\n",
      "  InsecureRequestWarning)\n",
      "/home/asaez/miniconda3/lib/python3.5/site-packages/requests/packages/urllib3/connectionpool.py:852: InsecureRequestWarning: Unverified HTTPS request is being made. Adding certificate verification is strongly advised. See: https://urllib3.readthedocs.io/en/latest/advanced-usage.html#ssl-warnings\n",
      "  InsecureRequestWarning)\n"
     ]
    },
    {
     "name": "stdout",
     "output_type": "stream",
     "text": [
      "{'inicio': '2017-05-30', 'zona': [{'subzona': {'nombre': 'Aguas costeras de Asturias', 'texto': 'PRINCIPALMENTE ESTE Y NORDESTE FUERZA 3 O 4. MAREJADILLA O MAREJADA. TEMPORALMENTE REGULAR O LOCALMENTE MALA. BANCOS DE NIEBLA.', 'id': 8033010}, 'nombre': 'Aguas costeras de Asturias', 'id': 8033010}, {'subzona': {'nombre': 'Aguas costeras de Cantabria', 'texto': 'ESTE Y NORDESTE FUERZA 3 O 4. MAREJADILLA O MAREJADA.', 'id': 8063910}, 'nombre': 'Aguas costeras de Cantabria', 'id': 8063910}, {'subzona': {'nombre': 'Aguas costeras de Bizkaia', 'texto': 'VARIABLE, PRINCIPALMENTE NORTE Y NORDESTE, FUERZA 1 A 4. MAREJADILLA O RIZADA.', 'id': 8154810}, 'nombre': 'Aguas costeras de Bizkaia', 'id': 8154810}, {'subzona': {'nombre': 'Aguas costeras de Gipuzkoa', 'texto': 'VARIABLE, PRINCIPALMENTE NORTE Y NORDESTE, FUERZA 1 A 4. MAREJADILLA O RIZADA.', 'id': 8152010}, 'nombre': 'Aguas costeras de Gipuzkoa', 'id': 8152010}], 'fin': '2017-05-31'}\n",
      "None\n",
      "None\n"
     ]
    },
    {
     "name": "stderr",
     "output_type": "stream",
     "text": [
      "/home/asaez/miniconda3/lib/python3.5/site-packages/requests/packages/urllib3/connectionpool.py:852: InsecureRequestWarning: Unverified HTTPS request is being made. Adding certificate verification is strongly advised. See: https://urllib3.readthedocs.io/en/latest/advanced-usage.html#ssl-warnings\n",
      "  InsecureRequestWarning)\n",
      "/home/asaez/miniconda3/lib/python3.5/site-packages/requests/packages/urllib3/connectionpool.py:852: InsecureRequestWarning: Unverified HTTPS request is being made. Adding certificate verification is strongly advised. See: https://urllib3.readthedocs.io/en/latest/advanced-usage.html#ssl-warnings\n",
      "  InsecureRequestWarning)\n",
      "/home/asaez/miniconda3/lib/python3.5/site-packages/requests/packages/urllib3/connectionpool.py:852: InsecureRequestWarning: Unverified HTTPS request is being made. Adding certificate verification is strongly advised. See: https://urllib3.readthedocs.io/en/latest/advanced-usage.html#ssl-warnings\n",
      "  InsecureRequestWarning)\n",
      "/home/asaez/miniconda3/lib/python3.5/site-packages/requests/packages/urllib3/connectionpool.py:852: InsecureRequestWarning: Unverified HTTPS request is being made. Adding certificate verification is strongly advised. See: https://urllib3.readthedocs.io/en/latest/advanced-usage.html#ssl-warnings\n",
      "  InsecureRequestWarning)\n"
     ]
    },
    {
     "name": "stdout",
     "output_type": "stream",
     "text": [
      "None\n",
      "None\n",
      "None\n"
     ]
    },
    {
     "name": "stderr",
     "output_type": "stream",
     "text": [
      "/home/asaez/miniconda3/lib/python3.5/site-packages/requests/packages/urllib3/connectionpool.py:852: InsecureRequestWarning: Unverified HTTPS request is being made. Adding certificate verification is strongly advised. See: https://urllib3.readthedocs.io/en/latest/advanced-usage.html#ssl-warnings\n",
      "  InsecureRequestWarning)\n",
      "/home/asaez/miniconda3/lib/python3.5/site-packages/requests/packages/urllib3/connectionpool.py:852: InsecureRequestWarning: Unverified HTTPS request is being made. Adding certificate verification is strongly advised. See: https://urllib3.readthedocs.io/en/latest/advanced-usage.html#ssl-warnings\n",
      "  InsecureRequestWarning)\n",
      "/home/asaez/miniconda3/lib/python3.5/site-packages/requests/packages/urllib3/connectionpool.py:852: InsecureRequestWarning: Unverified HTTPS request is being made. Adding certificate verification is strongly advised. See: https://urllib3.readthedocs.io/en/latest/advanced-usage.html#ssl-warnings\n",
      "  InsecureRequestWarning)\n"
     ]
    },
    {
     "name": "stdout",
     "output_type": "stream",
     "text": [
      "None\n",
      "None\n",
      "None\n"
     ]
    },
    {
     "name": "stderr",
     "output_type": "stream",
     "text": [
      "/home/asaez/miniconda3/lib/python3.5/site-packages/requests/packages/urllib3/connectionpool.py:852: InsecureRequestWarning: Unverified HTTPS request is being made. Adding certificate verification is strongly advised. See: https://urllib3.readthedocs.io/en/latest/advanced-usage.html#ssl-warnings\n",
      "  InsecureRequestWarning)\n",
      "/home/asaez/miniconda3/lib/python3.5/site-packages/requests/packages/urllib3/connectionpool.py:852: InsecureRequestWarning: Unverified HTTPS request is being made. Adding certificate verification is strongly advised. See: https://urllib3.readthedocs.io/en/latest/advanced-usage.html#ssl-warnings\n",
      "  InsecureRequestWarning)\n",
      "/home/asaez/miniconda3/lib/python3.5/site-packages/requests/packages/urllib3/connectionpool.py:852: InsecureRequestWarning: Unverified HTTPS request is being made. Adding certificate verification is strongly advised. See: https://urllib3.readthedocs.io/en/latest/advanced-usage.html#ssl-warnings\n",
      "  InsecureRequestWarning)\n"
     ]
    },
    {
     "name": "stdout",
     "output_type": "stream",
     "text": [
      "None\n",
      "None\n",
      "None\n",
      "None\n",
      "None\n"
     ]
    },
    {
     "name": "stderr",
     "output_type": "stream",
     "text": [
      "/home/asaez/miniconda3/lib/python3.5/site-packages/requests/packages/urllib3/connectionpool.py:852: InsecureRequestWarning: Unverified HTTPS request is being made. Adding certificate verification is strongly advised. See: https://urllib3.readthedocs.io/en/latest/advanced-usage.html#ssl-warnings\n",
      "  InsecureRequestWarning)\n",
      "/home/asaez/miniconda3/lib/python3.5/site-packages/requests/packages/urllib3/connectionpool.py:852: InsecureRequestWarning: Unverified HTTPS request is being made. Adding certificate verification is strongly advised. See: https://urllib3.readthedocs.io/en/latest/advanced-usage.html#ssl-warnings\n",
      "  InsecureRequestWarning)\n",
      "/home/asaez/miniconda3/lib/python3.5/site-packages/requests/packages/urllib3/connectionpool.py:852: InsecureRequestWarning: Unverified HTTPS request is being made. Adding certificate verification is strongly advised. See: https://urllib3.readthedocs.io/en/latest/advanced-usage.html#ssl-warnings\n",
      "  InsecureRequestWarning)\n",
      "/home/asaez/miniconda3/lib/python3.5/site-packages/requests/packages/urllib3/connectionpool.py:852: InsecureRequestWarning: Unverified HTTPS request is being made. Adding certificate verification is strongly advised. See: https://urllib3.readthedocs.io/en/latest/advanced-usage.html#ssl-warnings\n",
      "  InsecureRequestWarning)\n"
     ]
    },
    {
     "name": "stdout",
     "output_type": "stream",
     "text": [
      "None\n",
      "None\n",
      "None\n",
      "None\n"
     ]
    },
    {
     "name": "stderr",
     "output_type": "stream",
     "text": [
      "/home/asaez/miniconda3/lib/python3.5/site-packages/requests/packages/urllib3/connectionpool.py:852: InsecureRequestWarning: Unverified HTTPS request is being made. Adding certificate verification is strongly advised. See: https://urllib3.readthedocs.io/en/latest/advanced-usage.html#ssl-warnings\n",
      "  InsecureRequestWarning)\n",
      "/home/asaez/miniconda3/lib/python3.5/site-packages/requests/packages/urllib3/connectionpool.py:852: InsecureRequestWarning: Unverified HTTPS request is being made. Adding certificate verification is strongly advised. See: https://urllib3.readthedocs.io/en/latest/advanced-usage.html#ssl-warnings\n",
      "  InsecureRequestWarning)\n",
      "/home/asaez/miniconda3/lib/python3.5/site-packages/requests/packages/urllib3/connectionpool.py:852: InsecureRequestWarning: Unverified HTTPS request is being made. Adding certificate verification is strongly advised. See: https://urllib3.readthedocs.io/en/latest/advanced-usage.html#ssl-warnings\n",
      "  InsecureRequestWarning)\n",
      "/home/asaez/miniconda3/lib/python3.5/site-packages/requests/packages/urllib3/connectionpool.py:852: InsecureRequestWarning: Unverified HTTPS request is being made. Adding certificate verification is strongly advised. See: https://urllib3.readthedocs.io/en/latest/advanced-usage.html#ssl-warnings\n",
      "  InsecureRequestWarning)\n"
     ]
    },
    {
     "name": "stdout",
     "output_type": "stream",
     "text": [
      "None\n",
      "None\n"
     ]
    },
    {
     "name": "stderr",
     "output_type": "stream",
     "text": [
      "/home/asaez/miniconda3/lib/python3.5/site-packages/requests/packages/urllib3/connectionpool.py:852: InsecureRequestWarning: Unverified HTTPS request is being made. Adding certificate verification is strongly advised. See: https://urllib3.readthedocs.io/en/latest/advanced-usage.html#ssl-warnings\n",
      "  InsecureRequestWarning)\n"
     ]
    }
   ],
   "source": [
    "# Raising too many requests warining\n",
    "for ii in range(50):\n",
    "    print(get_prediction_for_cantabria(api_key))"
   ]
  },
  {
   "cell_type": "code",
   "execution_count": null,
   "metadata": {
    "collapsed": true
   },
   "outputs": [],
   "source": []
  }
 ],
 "metadata": {
  "kernelspec": {
   "display_name": "Python 3",
   "language": "python",
   "name": "python3"
  },
  "language_info": {
   "codemirror_mode": {
    "name": "ipython",
    "version": 3
   },
   "file_extension": ".py",
   "mimetype": "text/x-python",
   "name": "python",
   "nbconvert_exporter": "python",
   "pygments_lexer": "ipython3",
   "version": "3.5.3"
  }
 },
 "nbformat": 4,
 "nbformat_minor": 2
}
