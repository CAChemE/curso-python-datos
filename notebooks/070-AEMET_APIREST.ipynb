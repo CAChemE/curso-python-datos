{
 "cells": [
  {
   "cell_type": "markdown",
   "metadata": {},
   "source": [
    "# Cargando datos con API-REST"
   ]
  },
  {
   "cell_type": "markdown",
   "metadata": {},
   "source": [
    "## ¿Qué es API-REST?"
   ]
  },
  {
   "cell_type": "markdown",
   "metadata": {},
   "source": [
    "**API** es la **A**pplication **P**rogramming **I**nterface, es decir nuestra forma de interactuar con una aplicación. **REST** quiere decir **RE**presentational **S**tate **T**ransfer. Normalmente cuando hablamos de REST, estamos hablando de una interfaz para obtener datos usando directamente HTTP, es decir es un tipo de web API. \n",
    "\n",
    "> **De manera sencilla podemos decir que es una Interfaz con la que se interactúa mediante URLs normalmente para obtener datos.**\n",
    "\n",
    "La principal diferencia entre esto y una URL común, es que la URL de una página web devolverá algo que tu navegador puede interpretar y mostrar de forma \"bonita\", mientras que una API web mandará datos o instrucciones útiles para ti o tu ordenador."
   ]
  },
  {
   "cell_type": "code",
   "execution_count": 1,
   "metadata": {
    "collapsed": true
   },
   "outputs": [],
   "source": [
    "# preserve\n",
    "from IPython.display import HTML"
   ]
  },
  {
   "cell_type": "markdown",
   "metadata": {},
   "source": [
    "Veamos la respuesta a una página web clásica"
   ]
  },
  {
   "cell_type": "code",
   "execution_count": 2,
   "metadata": {},
   "outputs": [
    {
     "data": {
      "text/html": [
       "<iframe src=\"https://developer.github.com/v3/\" width=\"700\" height=\"400\"></iframe>"
      ],
      "text/plain": [
       "<IPython.core.display.HTML object>"
      ]
     },
     "execution_count": 2,
     "metadata": {},
     "output_type": "execute_result"
    }
   ],
   "source": [
    "HTML('<iframe src=\"https://developer.github.com/v3/\" width=\"700\" height=\"400\"></iframe>')"
   ]
  },
  {
   "cell_type": "markdown",
   "metadata": {},
   "source": [
    "Veamos la respuesta de una web api"
   ]
  },
  {
   "cell_type": "code",
   "execution_count": 3,
   "metadata": {},
   "outputs": [
    {
     "data": {
      "text/html": [
       "{\"current_user_url\":\"https://api.github.com/user\",\"current_user_authorizations_html_url\":\"https://github.com/settings/connections/applications{/client_id}\",\"authorizations_url\":\"https://api.github.com/authorizations\",\"code_search_url\":\"https://api.github.com/search/code?q={query}{&page,per_page,sort,order}\",\"commit_search_url\":\"https://api.github.com/search/commits?q={query}{&page,per_page,sort,order}\",\"emails_url\":\"https://api.github.com/user/emails\",\"emojis_url\":\"https://api.github.com/emojis\",\"events_url\":\"https://api.github.com/events\",\"feeds_url\":\"https://api.github.com/feeds\",\"followers_url\":\"https://api.github.com/user/followers\",\"following_url\":\"https://api.github.com/user/following{/target}\",\"gists_url\":\"https://api.github.com/gists{/gist_id}\",\"hub_url\":\"https://api.github.com/hub\",\"issue_search_url\":\"https://api.github.com/search/issues?q={query}{&page,per_page,sort,order}\",\"issues_url\":\"https://api.github.com/issues\",\"keys_url\":\"https://api.github.com/user/keys\",\"notifications_url\":\"https://api.github.com/notifications\",\"organization_repositories_url\":\"https://api.github.com/orgs/{org}/repos{?type,page,per_page,sort}\",\"organization_url\":\"https://api.github.com/orgs/{org}\",\"public_gists_url\":\"https://api.github.com/gists/public\",\"rate_limit_url\":\"https://api.github.com/rate_limit\",\"repository_url\":\"https://api.github.com/repos/{owner}/{repo}\",\"repository_search_url\":\"https://api.github.com/search/repositories?q={query}{&page,per_page,sort,order}\",\"current_user_repositories_url\":\"https://api.github.com/user/repos{?type,page,per_page,sort}\",\"starred_url\":\"https://api.github.com/user/starred{/owner}{/repo}\",\"starred_gists_url\":\"https://api.github.com/gists/starred\",\"team_url\":\"https://api.github.com/teams\",\"user_url\":\"https://api.github.com/users/{user}\",\"user_organizations_url\":\"https://api.github.com/user/orgs\",\"user_repositories_url\":\"https://api.github.com/users/{user}/repos{?type,page,per_page,sort}\",\"user_search_url\":\"https://api.github.com/search/users?q={query}{&page,per_page,sort,order}\"}"
      ],
      "text/plain": [
       "<IPython.core.display.HTML object>"
      ]
     },
     "execution_count": 3,
     "metadata": {},
     "output_type": "execute_result"
    }
   ],
   "source": [
    "HTML(url=\"https://api.github.com/\")"
   ]
  },
  {
   "cell_type": "markdown",
   "metadata": {},
   "source": [
    "En definitiva, cuando utilizamos una WEB API, están involucrados:\n",
    "\n",
    "* Cliente: realiza la petición a través de la url\n",
    "* Servidor: da una respuesta a la url recibida\n",
    "* Protocolo: se establece en la especificación de la API"
   ]
  },
  {
   "cell_type": "markdown",
   "metadata": {},
   "source": [
    "## ¿Cómo utilizar una API?"
   ]
  },
  {
   "cell_type": "markdown",
   "metadata": {},
   "source": [
    "El uso de WEB APIs permite: obtener información que sería cosotsa de obtener y procesar de otra manera (incluso en tiempo real).\n",
    "\n",
    "En algunas ocasiones, la API es pública y cualquiera puede hacer una petición, pero en otras es necesario tener una *api key* que nos identifica. Por lo tanto, el proceso para obtener datos suele ser:\n",
    "\n",
    "1. Comprobar si existe una API-REST para obtener dichos datos\n",
    "2. Obtener una api key en caso de que sea necesaria\n",
    "3. Leer la especificación de la API para saber cómo componer la URL y como interpretar la respuesta\n",
    "4. Utilizar la API, en nuestro caso desde Python."
   ]
  },
  {
   "cell_type": "markdown",
   "metadata": {},
   "source": [
    "### Ejemplo: descargando datos de AEMET "
   ]
  },
  {
   "cell_type": "markdown",
   "metadata": {},
   "source": [
    "Esta es la página principal de su API:\n",
    "\n",
    "[https://opendata.aemet.es/centrodedescargas/inicio](https://opendata.aemet.es/centrodedescargas/inicio)\n",
    "    \n",
    "Aquí podemos encontrar: información general, el lugar donde obtener nuestra API key, una interfaz para acceder a los datos para público general "
   ]
  },
  {
   "cell_type": "code",
   "execution_count": 4,
   "metadata": {},
   "outputs": [
    {
     "data": {
      "text/html": [
       "<iframe src=\"https://opendata.aemet.es/centrodedescargas/inicio\" width=\"1000\" height=\"400\"></iframe>"
      ],
      "text/plain": [
       "<IPython.core.display.HTML object>"
      ]
     },
     "execution_count": 4,
     "metadata": {},
     "output_type": "execute_result"
    }
   ],
   "source": [
    "HTML('<iframe src=\"https://opendata.aemet.es/centrodedescargas/inicio\" width=\"1000\" height=\"400\"></iframe>')"
   ]
  },
  {
   "cell_type": "markdown",
   "metadata": {},
   "source": [
    "## Módulo requests"
   ]
  },
  {
   "cell_type": "markdown",
   "metadata": {},
   "source": [
    "Aunque existen otras formas y librería para trabajar con HTTP en Python, el módulo `requests` está específicamente pensado para trabajar con APIs web.\n",
    "\n",
    "Como siempre hasta ahora, lo primero es importarlo:"
   ]
  },
  {
   "cell_type": "code",
   "execution_count": 5,
   "metadata": {
    "collapsed": true
   },
   "outputs": [],
   "source": [
    "import requests"
   ]
  },
  {
   "cell_type": "markdown",
   "metadata": {},
   "source": [
    "Necesitaremos cargar nuesta API key, lo más cómodo es almacenarla en un fichero y cargarla desde ahí. Creemos una función para leerla:"
   ]
  },
  {
   "cell_type": "code",
   "execution_count": 6,
   "metadata": {
    "collapsed": true
   },
   "outputs": [],
   "source": [
    "# preserve\n",
    "def load_api_key(file):\n",
    "    \"\"\"Returns the contents in the file without the final line break\n",
    "    \"\"\"\n",
    "    with open(file, 'r') as f:\n",
    "        api_key = f.read().rstrip()\n",
    "    return api_key"
   ]
  },
  {
   "cell_type": "code",
   "execution_count": 7,
   "metadata": {
    "collapsed": true
   },
   "outputs": [],
   "source": [
    "# cargamos la api_key\n",
    "api_key = load_api_key(\"../../apikey-aemet.txt\")"
   ]
  },
  {
   "cell_type": "markdown",
   "metadata": {},
   "source": [
    "Debemos saber cuál es la url a la que vamos a hacer la petición:"
   ]
  },
  {
   "cell_type": "code",
   "execution_count": 8,
   "metadata": {},
   "outputs": [],
   "source": [
    "# Fijamos la url y los parámetros\n",
    "# Predicción costera de Asturias, Cantabria y País Vasco debemos introducir\n",
    "# https://opendata.aemet.es/opendata/api/prediccion/maritima/costera/costa/41\n",
    "\n",
    "url = \"https://opendata.aemet.es/opendata/api/prediccion/maritima/costera/costa/41\"\n",
    "querystring = {\"api_key\": api_key}"
   ]
  },
  {
   "cell_type": "markdown",
   "metadata": {},
   "source": [
    "Por último, lanzamos la petición:"
   ]
  },
  {
   "cell_type": "code",
   "execution_count": 9,
   "metadata": {},
   "outputs": [
    {
     "name": "stderr",
     "output_type": "stream",
     "text": [
      "/home/asaez/miniconda3/lib/python3.5/site-packages/requests/packages/urllib3/connectionpool.py:852: InsecureRequestWarning: Unverified HTTPS request is being made. Adding certificate verification is strongly advised. See: https://urllib3.readthedocs.io/en/latest/advanced-usage.html#ssl-warnings\n",
      "  InsecureRequestWarning)\n"
     ]
    }
   ],
   "source": [
    "# Lanzamos la request\n",
    "response = requests.get(url, params=querystring, verify=False)"
   ]
  },
  {
   "cell_type": "markdown",
   "metadata": {},
   "source": [
    "Comprobando la respuesta:"
   ]
  },
  {
   "cell_type": "code",
   "execution_count": 10,
   "metadata": {},
   "outputs": [
    {
     "data": {
      "text/plain": [
       "<Response [200]>"
      ]
     },
     "execution_count": 10,
     "metadata": {},
     "output_type": "execute_result"
    }
   ],
   "source": [
    "# Vemos la respuesta\n",
    "response"
   ]
  },
  {
   "cell_type": "markdown",
   "metadata": {},
   "source": [
    "Vemos que hemos obtenido una respuesta con código 200, esto quiere decir, en el código habitual de las API-REST, que todo ha ido bien. De hecho, es conveniente ver que todo ha ido bien antes de hacer nada más:"
   ]
  },
  {
   "cell_type": "code",
   "execution_count": 11,
   "metadata": {},
   "outputs": [
    {
     "data": {
      "text/plain": [
       "True"
      ]
     },
     "execution_count": 11,
     "metadata": {},
     "output_type": "execute_result"
    }
   ],
   "source": [
    "# código de estado\n",
    "response.status_code == requests.codes.ok"
   ]
  },
  {
   "cell_type": "markdown",
   "metadata": {},
   "source": [
    "Otra información que podemos obtener es, por ejemplo;"
   ]
  },
  {
   "cell_type": "code",
   "execution_count": 12,
   "metadata": {},
   "outputs": [
    {
     "name": "stdout",
     "output_type": "stream",
     "text": [
      "Elapsed:  0:00:00.150871\n",
      "Headers:  {'Date': 'Sun, 04 Jun 2017 21:05:01 GMT', 'Server': 'Apache/2.2.15 (CentOS)'}\n"
     ]
    }
   ],
   "source": [
    "# preserve\n",
    "# Tiempo en procesar la petición\n",
    "print(\"Elapsed: \", response.elapsed)\n",
    "# Información del servidor\n",
    "print(\"Headers: \", response.headers)"
   ]
  },
  {
   "cell_type": "markdown",
   "metadata": {},
   "source": [
    "Pero... ¿dónde están nuestros datos?"
   ]
  },
  {
   "cell_type": "code",
   "execution_count": 13,
   "metadata": {},
   "outputs": [
    {
     "data": {
      "text/plain": [
       "b'{\\n  \"descripcion\" : \"exito\",\\n  \"estado\" : 200,\\n  \"datos\" : \"https://opendata.aemet.es/opendata/sh/43cdfb13\",\\n  \"metadatos\" : \"https://opendata.aemet.es/opendata/sh/8846af34\"\\n}'"
      ]
     },
     "execution_count": 13,
     "metadata": {},
     "output_type": "execute_result"
    }
   ],
   "source": [
    "response.content"
   ]
  },
  {
   "cell_type": "markdown",
   "metadata": {},
   "source": [
    "¡Parece que esto es un json!"
   ]
  },
  {
   "cell_type": "code",
   "execution_count": 14,
   "metadata": {},
   "outputs": [
    {
     "data": {
      "text/plain": [
       "{'datos': 'https://opendata.aemet.es/opendata/sh/43cdfb13',\n",
       " 'descripcion': 'exito',\n",
       " 'estado': 200,\n",
       " 'metadatos': 'https://opendata.aemet.es/opendata/sh/8846af34'}"
      ]
     },
     "execution_count": 14,
     "metadata": {},
     "output_type": "execute_result"
    }
   ],
   "source": [
    "content = response.json()\n",
    "\n",
    "content"
   ]
  },
  {
   "cell_type": "markdown",
   "metadata": {},
   "source": [
    "Efectivamente, la mayoría de las WEB APIs devuelven json o xml. Pero, otra vez... ¿dónde están nuestros datos?"
   ]
  },
  {
   "cell_type": "code",
   "execution_count": 15,
   "metadata": {},
   "outputs": [
    {
     "name": "stderr",
     "output_type": "stream",
     "text": [
      "/home/asaez/miniconda3/lib/python3.5/site-packages/requests/packages/urllib3/connectionpool.py:852: InsecureRequestWarning: Unverified HTTPS request is being made. Adding certificate verification is strongly advised. See: https://urllib3.readthedocs.io/en/latest/advanced-usage.html#ssl-warnings\n",
      "  InsecureRequestWarning)\n",
      "/home/asaez/miniconda3/lib/python3.5/site-packages/requests/packages/urllib3/connectionpool.py:852: InsecureRequestWarning: Unverified HTTPS request is being made. Adding certificate verification is strongly advised. See: https://urllib3.readthedocs.io/en/latest/advanced-usage.html#ssl-warnings\n",
      "  InsecureRequestWarning)\n"
     ]
    }
   ],
   "source": [
    "r_meta = requests.get(content['metadatos'], verify=False)\n",
    "r_data = requests.get(content['datos'], verify=False)\n",
    "\n",
    "if r_meta.status_code == requests.codes.ok:\n",
    "    metadata = r_meta.json()\n",
    "    \n",
    "if r_data.status_code == requests.codes.ok:\n",
    "    data = r_data.json()"
   ]
  },
  {
   "cell_type": "code",
   "execution_count": 16,
   "metadata": {},
   "outputs": [
    {
     "name": "stdout",
     "output_type": "stream",
     "text": [
      "dict_keys(['formato', 'unidad_generadora', 'descripcion', 'periodicidad', 'campos'])\n",
      "dict_keys(['nombre', 'origen', 'id', 'aviso', 'tendencia', 'situacion', 'prediccion'])\n"
     ]
    }
   ],
   "source": [
    "print(metadata[0].keys())\n",
    "print(data[0].keys())"
   ]
  },
  {
   "cell_type": "code",
   "execution_count": 17,
   "metadata": {},
   "outputs": [
    {
     "data": {
      "text/plain": [
       "'Dos veces al día (12:00 y 20:00) h.o.p'"
      ]
     },
     "execution_count": 17,
     "metadata": {},
     "output_type": "execute_result"
    }
   ],
   "source": [
    "metadata[0]['periodicidad']"
   ]
  },
  {
   "cell_type": "code",
   "execution_count": 18,
   "metadata": {
    "scrolled": true
   },
   "outputs": [
    {
     "data": {
      "text/plain": [
       "{'fin': '2017-06-05',\n",
       " 'inicio': '2017-06-04',\n",
       " 'zona': [{'id': 8033010,\n",
       "   'nombre': 'Aguas costeras de Asturias',\n",
       "   'subzona': {'id': 8033010,\n",
       "    'nombre': 'Aguas costeras de Asturias',\n",
       "    'texto': 'VARIABLE, PRINCIPALMENTE OESTE, FUERZA 1 A 3 ARRECIANDO A SUROESTE FUERZA 4 O 5 AL OESTE DE PENAS A PARTIR DEL MEDIODIA. MAREJADILLA AUMENTANDO A MAREJADA AL OESTE DE PENAS A PARTIR DEL MEDIODIA. MAR DE FONDO DEL NOROESTE DE 1 A 2 METROS.'}},\n",
       "  {'id': 8063910,\n",
       "   'nombre': 'Aguas costeras de Cantabria',\n",
       "   'subzona': {'id': 8063910,\n",
       "    'nombre': 'Aguas costeras de Cantabria',\n",
       "    'texto': 'VARIABLE FUERZA 1 A 4. MAREJADILLA, LOCALMENTE MAREJADA AL ESTE DE AJO. MAR DE FONDO DEL NOROESTE DE 1 A 2 METROS.'}},\n",
       "  {'id': 8154810,\n",
       "   'nombre': 'Aguas costeras de Bizkaia',\n",
       "   'subzona': {'id': 8154810,\n",
       "    'nombre': 'Aguas costeras de Bizkaia',\n",
       "    'texto': 'VARIABLE, PRINCIPALMENTE NOROESTE, FUERZA 1 A 4. MAREJADILLA O MAREJADA. MAR DE FONDO DEL NOROESTE DE 1 A 2 METROS.'}},\n",
       "  {'id': 8152010,\n",
       "   'nombre': 'Aguas costeras de Gipuzkoa',\n",
       "   'subzona': {'id': 8152010,\n",
       "    'nombre': 'Aguas costeras de Gipuzkoa',\n",
       "    'texto': 'VARIABLE, PRINCIPALMENTE NOROESTE, FUERZA 1 A 4. MAREJADILLA O MAREJADA. MAR DE FONDO DEL NOROESTE DE 1 A 2 METROS.'}}]}"
      ]
     },
     "execution_count": 18,
     "metadata": {},
     "output_type": "execute_result"
    }
   ],
   "source": [
    "data[0]['prediccion']"
   ]
  },
  {
   "cell_type": "markdown",
   "metadata": {
    "collapsed": true
   },
   "source": [
    "En definitiva, podríamos reagrupar todo lo anterior como:"
   ]
  },
  {
   "cell_type": "code",
   "execution_count": 19,
   "metadata": {
    "collapsed": true
   },
   "outputs": [],
   "source": [
    "# preserve\n",
    "\n",
    "from warnings import warn\n",
    "\n",
    "def get_prediction_for_cantabria(api_key):\n",
    "    url = \"https://opendata.aemet.es/opendata/api/prediccion/maritima/costera/costa/41\"\n",
    "    querystring = {\"api_key\": api_key}\n",
    "    \n",
    "    response = requests.get(url, params=querystring, verify=False)\n",
    "    \n",
    "    prediction = None\n",
    "     \n",
    "    if response.status_code == requests.codes.ok:\n",
    "        r_data = requests.get(content['datos'], verify=False)\n",
    "        if r_data.status_code == requests.codes.ok:\n",
    "            data = r_data.json()\n",
    "            prediction = data[0]['prediccion']\n",
    "    \n",
    "    elif response.status_code == requests.codes.TOO_MANY_REQUESTS:\n",
    "        warn('Too many requests')\n",
    "        \n",
    "    elif response.status.code == requests.codes.NOT_FOUND:\n",
    "        warn('No data for the response')\n",
    "        \n",
    "    else:\n",
    "        warn('Code error {}'.format(response.status_code))\n",
    "            \n",
    "    return prediction\n",
    "        "
   ]
  },
  {
   "cell_type": "markdown",
   "metadata": {},
   "source": [
    "---\n",
    "\n",
    "# Conclusiones\n",
    "\n",
    "* Si el proveedor de los datos dispone de una API-REST podemos aprovecharla para automatizar la obtención de los mismos\n",
    "* En la mayoría de los casos necesitaremos una api-key y conocer la especificación de la API\n",
    "* A través de la URL podemos configurar nuestra petición\n",
    "* El módulo requests nos permite realizar este proceso en Python de manera secilla"
   ]
  },
  {
   "cell_type": "markdown",
   "metadata": {},
   "source": [
    "# Enlaces:\n",
    "\n",
    "* Página oficial de requests: http://docs.python-requests.org/en/master/\n",
    "* Getting Data Software Carpentry Lesson: http://swcarpentry.github.io/web-data-python/01-getdata/\n",
    "* Using the Requests Module in Python: https://code.tutsplus.com/tutorials/using-the-requests-module-in-python--cms-28204\n"
   ]
  },
  {
   "cell_type": "markdown",
   "metadata": {},
   "source": [
    "---\n",
    "<br/>\n",
    "<h4 align=\"right\">¡Síguenos en Twitter!\n",
    "<br/>\n",
    "<p align=\"right\"> <a href=\"https://twitter.com/AeroPython\" class=\"twitter-follow-button\" data-show-count=\"false\">@AeroPython</a> <script>!function(d,s,id){var js,fjs=d.getElementsByTagName(s)[0],p=/^http:/.test(d.location)?'http':'https';if(!d.getElementById(id)){js=d.createElement(s);js.id=id;js.src=p+'://platform.twitter.com/widgets.js';fjs.parentNode.insertBefore(js,fjs);}}(document, 'script', 'twitter-wjs');</script> </p>\n",
    "<p align=\"right\"><a href=\"https://twitter.com/CAChemEorg\" class=\"twitter-follow-button\" data-show-count=\"false\">@CAChemEorg</a> <script>!function(d,s,id){var js,fjs=d.getElementsByTagName(s)[0],p=/^http:/.test(d.location)?'http':'https';if(!d.getElementById(id)){js=d.createElement(s);js.id=id;js.src=p+'://platform.twitter.com/widgets.js';fjs.parentNode.insertBefore(js,fjs);}}(document, 'script', 'twitter-wjs');</script> </p>\n",
    "<br/></h4>\n",
    "\n",
    "###### Este notebook ha sido realizado por: [Álex Sáez](https://www.linkedin.com/in/alejandrosaezm/) y [Francisco Navarro](https://www.linkedin.com/in/fjnavarro/)\n",
    "<br/>\n",
    "##### <a rel=\"license\" href=\"http://creativecommons.org/licenses/by/4.0/deed.es\"><img alt=\"Licencia Creative Commons\" style=\"border-width:0\" src=\"http://i.creativecommons.org/l/by/4.0/88x31.png\" /></a><br /><span xmlns:dct=\"http://purl.org/dc/terms/\" property=\"dct:title\">Curso de introducción a Python: procesamiento y análisis de datos</span> por <span xmlns:cc=\"http://creativecommons.org/ns#\" property=\"cc:attributionName\">Juan Luis Cano Rodriguez, Alejandro Sáez Mollejo y Francisco J. Navarro Brull</span> se distribuye bajo una <a rel=\"license\" href=\"http://creativecommons.org/licenses/by/4.0/deed.es\">Licencia Creative Commons Atribución 4.0 Internacional</a>.\n",
    "\n",
    "###### La mayor parte de material de este curso es un resumen adaptado del magnífico [Curso de AeroPython](https://github.com/AeroPython/Curso_AeroPython)  realizado por: Juan Luis Cano  y Álex Sáez "
   ]
  }
 ],
 "metadata": {
  "kernelspec": {
   "display_name": "Python 3",
   "language": "python",
   "name": "python3"
  },
  "language_info": {
   "codemirror_mode": {
    "name": "ipython",
    "version": 3
   },
   "file_extension": ".py",
   "mimetype": "text/x-python",
   "name": "python",
   "nbconvert_exporter": "python",
   "pygments_lexer": "ipython3",
   "version": "3.5.3"
  }
 },
 "nbformat": 4,
 "nbformat_minor": 2
}
