{
 "cells": [
  {
   "cell_type": "markdown",
   "metadata": {},
   "source": [
    "# Cargando datos con API-REST"
   ]
  },
  {
   "cell_type": "markdown",
   "metadata": {},
   "source": [
    "## ¿Qué es API-REST?"
   ]
  },
  {
   "cell_type": "markdown",
   "metadata": {},
   "source": [
    "**API** es la **A**pplication **P**rogramming **I**nterface, es decir nuestra forma de interactuar con una aplicación. **REST** quiere decir **RE**presentational **S**tate **T**ransfer. Normalmente cuando hablamos de REST, estamos hablando de una interfaz para obtener datos usando directamente HTTP, es decir es un tipo de web API. \n",
    "\n",
    "> **De manera sencilla podemos decir que es una Interfaz con la que se interactúa mediante URLs normalmente para obtener datos.**\n",
    "\n",
    "La principal diferencia entre esto y una URL común, es que la URL de una página web devolverá algo que tu navegador puede interpretar y mostrar de forma \"bonita\", mientras que una API web mandará datos o instrucciones útiles para ti o tu ordenador."
   ]
  },
  {
   "cell_type": "code",
   "execution_count": 1,
   "metadata": {
    "collapsed": true
   },
   "outputs": [],
   "source": [
    "# preserve\n",
    "from IPython.display import HTML"
   ]
  },
  {
   "cell_type": "markdown",
   "metadata": {},
   "source": [
    "Veamos la respuesta a una página web clásica"
   ]
  },
  {
   "cell_type": "code",
   "execution_count": null,
   "metadata": {},
   "outputs": [],
   "source": []
  },
  {
   "cell_type": "markdown",
   "metadata": {},
   "source": [
    "Veamos la respuesta de una web api"
   ]
  },
  {
   "cell_type": "code",
   "execution_count": null,
   "metadata": {},
   "outputs": [],
   "source": []
  },
  {
   "cell_type": "markdown",
   "metadata": {},
   "source": [
    "En definitiva, cuando utilizamos una WEB API, están involucrados:\n",
    "\n",
    "* Cliente: realiza la petición a través de la url\n",
    "* Servidor: da una respuesta a la url recibida\n",
    "* Protocolo: se establece en la especificación de la API"
   ]
  },
  {
   "cell_type": "markdown",
   "metadata": {},
   "source": [
    "## ¿Cómo utilizar una API?"
   ]
  },
  {
   "cell_type": "markdown",
   "metadata": {},
   "source": [
    "El uso de WEB APIs permite: obtener información que sería cosotsa de obtener y procesar de otra manera (incluso en tiempo real).\n",
    "\n",
    "En algunas ocasiones, la API es pública y cualquiera puede hacer una petición, pero en otras es necesario tener una *api key* que nos identifica. Por lo tanto, el proceso para obtener datos suele ser:\n",
    "\n",
    "1. Comprobar si existe una API-REST para obtener dichos datos\n",
    "2. Obtener una api key en caso de que sea necesaria\n",
    "3. Leer la especificación de la API para saber cómo componer la URL y como interpretar la respuesta\n",
    "4. Utilizar la API, en nuestro caso desde Python."
   ]
  },
  {
   "cell_type": "markdown",
   "metadata": {},
   "source": [
    "### Ejemplo: descargando datos de AEMET "
   ]
  },
  {
   "cell_type": "markdown",
   "metadata": {},
   "source": [
    "Esta es la página principal de su API:\n",
    "\n",
    "[https://opendata.aemet.es/centrodedescargas/inicio](https://opendata.aemet.es/centrodedescargas/inicio)\n",
    "    \n",
    "Aquí podemos encontrar: información general, el lugar donde obtener nuestra API key, una interfaz para acceder a los datos para público general "
   ]
  },
  {
   "cell_type": "code",
   "execution_count": null,
   "metadata": {},
   "outputs": [],
   "source": []
  },
  {
   "cell_type": "markdown",
   "metadata": {},
   "source": [
    "## Módulo requests"
   ]
  },
  {
   "cell_type": "markdown",
   "metadata": {},
   "source": [
    "Aunque existen otras formas y librería para trabajar con HTTP en Python, el módulo `requests` está específicamente pensado para trabajar con APIs web.\n",
    "\n",
    "Como siempre hasta ahora, lo primero es importarlo:"
   ]
  },
  {
   "cell_type": "code",
   "execution_count": null,
   "metadata": {
    "collapsed": true
   },
   "outputs": [],
   "source": []
  },
  {
   "cell_type": "markdown",
   "metadata": {},
   "source": [
    "Necesitaremos cargar nuesta API key, lo más cómodo es almacenarla en un fichero y cargarla desde ahí. Creemos una función para leerla:"
   ]
  },
  {
   "cell_type": "code",
   "execution_count": 6,
   "metadata": {
    "collapsed": true
   },
   "outputs": [],
   "source": [
    "# preserve\n",
    "def load_api_key(file):\n",
    "    \"\"\"Returns the contents in the file without the final line break\n",
    "    \"\"\"\n",
    "    with open(file, 'r') as f:\n",
    "        api_key = f.read().rstrip()\n",
    "    return api_key"
   ]
  },
  {
   "cell_type": "code",
   "execution_count": null,
   "metadata": {
    "collapsed": true
   },
   "outputs": [],
   "source": [
    "# cargamos la api_key"
   ]
  },
  {
   "cell_type": "markdown",
   "metadata": {},
   "source": [
    "Debemos saber cuál es la url a la que vamos a hacer la petición:"
   ]
  },
  {
   "cell_type": "code",
   "execution_count": null,
   "metadata": {},
   "outputs": [],
   "source": [
    "# Fijamos la url y los parámetros\n",
    "# Predicción costera de Asturias, Cantabria y País Vasco debemos introducir\n",
    "# https://opendata.aemet.es/opendata/api/prediccion/maritima/costera/costa/41"
   ]
  },
  {
   "cell_type": "markdown",
   "metadata": {},
   "source": [
    "Por último, lanzamos la petición:"
   ]
  },
  {
   "cell_type": "code",
   "execution_count": null,
   "metadata": {},
   "outputs": [],
   "source": [
    "# Lanzamos la request"
   ]
  },
  {
   "cell_type": "markdown",
   "metadata": {},
   "source": [
    "Comprobando la respuesta:"
   ]
  },
  {
   "cell_type": "code",
   "execution_count": null,
   "metadata": {},
   "outputs": [],
   "source": [
    "# Vemos la respuesta"
   ]
  },
  {
   "cell_type": "markdown",
   "metadata": {},
   "source": [
    "Vemos que hemos obtenido una respuesta con código 200, esto quiere decir, en el código habitual de las API-REST, que todo ha ido bien. De hecho, es conveniente ver que todo ha ido bien antes de hacer nada más:"
   ]
  },
  {
   "cell_type": "code",
   "execution_count": null,
   "metadata": {},
   "outputs": [],
   "source": [
    "# código de estado"
   ]
  },
  {
   "cell_type": "markdown",
   "metadata": {},
   "source": [
    "Otra información que podemos obtener es, por ejemplo;"
   ]
  },
  {
   "cell_type": "code",
   "execution_count": 12,
   "metadata": {},
   "outputs": [
    {
     "name": "stdout",
     "output_type": "stream",
     "text": [
      "Elapsed:  0:00:00.150871\n",
      "Headers:  {'Date': 'Sun, 04 Jun 2017 21:05:01 GMT', 'Server': 'Apache/2.2.15 (CentOS)'}\n"
     ]
    }
   ],
   "source": [
    "# preserve\n",
    "# Tiempo en procesar la petición\n",
    "print(\"Elapsed: \", response.elapsed)\n",
    "# Información del servidor\n",
    "print(\"Headers: \", response.headers)"
   ]
  },
  {
   "cell_type": "markdown",
   "metadata": {},
   "source": [
    "Pero... ¿dónde están nuestros datos?"
   ]
  },
  {
   "cell_type": "code",
   "execution_count": null,
   "metadata": {},
   "outputs": [],
   "source": []
  },
  {
   "cell_type": "markdown",
   "metadata": {},
   "source": [
    "¡Parece que esto es un json!"
   ]
  },
  {
   "cell_type": "code",
   "execution_count": null,
   "metadata": {},
   "outputs": [],
   "source": []
  },
  {
   "cell_type": "markdown",
   "metadata": {},
   "source": [
    "Efectivamente, la mayoría de las WEB APIs devuelven json o xml. Pero, otra vez... ¿dónde están nuestros datos?"
   ]
  },
  {
   "cell_type": "code",
   "execution_count": null,
   "metadata": {},
   "outputs": [],
   "source": []
  },
  {
   "cell_type": "code",
   "execution_count": null,
   "metadata": {},
   "outputs": [],
   "source": []
  },
  {
   "cell_type": "code",
   "execution_count": null,
   "metadata": {},
   "outputs": [],
   "source": []
  },
  {
   "cell_type": "code",
   "execution_count": null,
   "metadata": {
    "scrolled": true
   },
   "outputs": [],
   "source": []
  },
  {
   "cell_type": "markdown",
   "metadata": {
    "collapsed": true
   },
   "source": [
    "En definitiva, podríamos reagrupar todo lo anterior como:"
   ]
  },
  {
   "cell_type": "code",
   "execution_count": 19,
   "metadata": {
    "collapsed": true
   },
   "outputs": [],
   "source": [
    "# preserve\n",
    "\n",
    "from warnings import warn\n",
    "\n",
    "def get_prediction_for_cantabria(api_key):\n",
    "    url = \"https://opendata.aemet.es/opendata/api/prediccion/maritima/costera/costa/41\"\n",
    "    querystring = {\"api_key\": api_key}\n",
    "    \n",
    "    response = requests.get(url, params=querystring, verify=False)\n",
    "    \n",
    "    prediction = None\n",
    "     \n",
    "    if response.status_code == requests.codes.ok:\n",
    "        r_data = requests.get(content['datos'], verify=False)\n",
    "        if r_data.status_code == requests.codes.ok:\n",
    "            data = r_data.json()\n",
    "            prediction = data[0]['prediccion']\n",
    "    \n",
    "    elif response.status_code == requests.codes.TOO_MANY_REQUESTS:\n",
    "        warn('Too many requests')\n",
    "        \n",
    "    elif response.status.code == requests.codes.NOT_FOUND:\n",
    "        warn('No data for the response')\n",
    "        \n",
    "    else:\n",
    "        warn('Code error {}'.format(response.status_code))\n",
    "            \n",
    "    return prediction\n",
    "        "
   ]
  },
  {
   "cell_type": "markdown",
   "metadata": {},
   "source": [
    "---\n",
    "\n",
    "# Conclusiones\n",
    "\n",
    "* Si el proveedor de los datos dispone de una API-REST podemos aprovecharla para automatizar la obtención de los mismos\n",
    "* En la mayoría de los casos necesitaremos una api-key y conocer la especificación de la API\n",
    "* A través de la URL podemos configurar nuestra petición\n",
    "* El módulo requests nos permite realizar este proceso en Python de manera secilla"
   ]
  },
  {
   "cell_type": "markdown",
   "metadata": {},
   "source": [
    "# Enlaces:\n",
    "\n",
    "* Página oficial de requests: http://docs.python-requests.org/en/master/\n",
    "* Getting Data Software Carpentry Lesson: http://swcarpentry.github.io/web-data-python/01-getdata/\n",
    "* Using the Requests Module in Python: https://code.tutsplus.com/tutorials/using-the-requests-module-in-python--cms-28204\n"
   ]
  },
  {
   "cell_type": "markdown",
   "metadata": {},
   "source": [
    "---\n",
    "<br/>\n",
    "<h4 align=\"right\">¡Síguenos en Twitter!\n",
    "<br/>\n",
    "<p align=\"right\"> <a href=\"https://twitter.com/AeroPython\" class=\"twitter-follow-button\" data-show-count=\"false\">@AeroPython</a> <script>!function(d,s,id){var js,fjs=d.getElementsByTagName(s)[0],p=/^http:/.test(d.location)?'http':'https';if(!d.getElementById(id)){js=d.createElement(s);js.id=id;js.src=p+'://platform.twitter.com/widgets.js';fjs.parentNode.insertBefore(js,fjs);}}(document, 'script', 'twitter-wjs');</script> </p>\n",
    "<p align=\"right\"><a href=\"https://twitter.com/CAChemEorg\" class=\"twitter-follow-button\" data-show-count=\"false\">@CAChemEorg</a> <script>!function(d,s,id){var js,fjs=d.getElementsByTagName(s)[0],p=/^http:/.test(d.location)?'http':'https';if(!d.getElementById(id)){js=d.createElement(s);js.id=id;js.src=p+'://platform.twitter.com/widgets.js';fjs.parentNode.insertBefore(js,fjs);}}(document, 'script', 'twitter-wjs');</script> </p>\n",
    "<br/></h4>\n",
    "\n",
    "###### Este notebook ha sido realizado por: [Álex Sáez](https://www.linkedin.com/in/alejandrosaezm/) y [Francisco Navarro](https://www.linkedin.com/in/fjnavarro/)\n",
    "<br/>\n",
    "##### <a rel=\"license\" href=\"http://creativecommons.org/licenses/by/4.0/deed.es\"><img alt=\"Licencia Creative Commons\" style=\"border-width:0\" src=\"http://i.creativecommons.org/l/by/4.0/88x31.png\" /></a><br /><span xmlns:dct=\"http://purl.org/dc/terms/\" property=\"dct:title\">Curso de introducción a Python: procesamiento y análisis de datos</span> por <span xmlns:cc=\"http://creativecommons.org/ns#\" property=\"cc:attributionName\">Juan Luis Cano Rodriguez, Alejandro Sáez Mollejo y Francisco J. Navarro Brull</span> se distribuye bajo una <a rel=\"license\" href=\"http://creativecommons.org/licenses/by/4.0/deed.es\">Licencia Creative Commons Atribución 4.0 Internacional</a>.\n",
    "\n",
    "###### La mayor parte de material de este curso es un resumen adaptado del magnífico [Curso de AeroPython](https://github.com/AeroPython/Curso_AeroPython)  realizado por: Juan Luis Cano  y Álex Sáez "
   ]
  }
 ],
 "metadata": {
  "kernelspec": {
   "display_name": "Python 3",
   "language": "python",
   "name": "python3"
  },
  "language_info": {
   "codemirror_mode": {
    "name": "ipython",
    "version": 3
   },
   "file_extension": ".py",
   "mimetype": "text/x-python",
   "name": "python",
   "nbconvert_exporter": "python",
   "pygments_lexer": "ipython3",
   "version": "3.5.3"
  }
 },
 "nbformat": 4,
 "nbformat_minor": 2
}
